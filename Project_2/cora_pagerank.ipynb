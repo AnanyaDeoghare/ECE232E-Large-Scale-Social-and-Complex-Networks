{
  "cells": [
    {
      "cell_type": "code",
      "execution_count": null,
      "metadata": {
        "colab": {
          "base_uri": "https://localhost:8080/"
        },
        "id": "bYcS_jfLesAb",
        "outputId": "477e8246-fe4a-4d5a-b0ce-a6b634a3c694"
      },
      "outputs": [
        {
          "output_type": "stream",
          "name": "stdout",
          "text": [
            "Collecting igraph\n",
            "  Downloading igraph-0.9.10-cp37-cp37m-manylinux_2_17_x86_64.manylinux2014_x86_64.whl (3.1 MB)\n",
            "\u001b[K     |████████████████████████████████| 3.1 MB 4.4 MB/s \n",
            "\u001b[?25hCollecting texttable>=1.6.2\n",
            "  Downloading texttable-1.6.4-py2.py3-none-any.whl (10 kB)\n",
            "Installing collected packages: texttable, igraph\n",
            "Successfully installed igraph-0.9.10 texttable-1.6.4\n",
            "Mounted at /content/drive\n",
            "/content/drive/Shareddrives/ECE232E/Project 2\n"
          ]
        }
      ],
      "source": [
        "import sys\n",
        "!pip install igraph\n",
        "\n",
        "#Importing Drive\n",
        "runningOnColab = 'google.colab' in sys.modules\n",
        "if runningOnColab:\n",
        "  from google.colab import drive\n",
        "  drive.mount('/content/drive')\n",
        "  %cd '/content/drive/Shareddrives/ECE232E/Project 2'"
      ]
    },
    {
      "cell_type": "code",
      "execution_count": null,
      "metadata": {
        "colab": {
          "base_uri": "https://localhost:8080/"
        },
        "id": "WC5Rq99els1H",
        "outputId": "6410b363-9be3-4d14-806a-cbe9a3a2c091"
      },
      "outputs": [
        {
          "output_type": "stream",
          "name": "stdout",
          "text": [
            "Archive:  Cora.zip\n",
            "replace ._Cora? [y]es, [n]o, [A]ll, [N]one, [r]ename: A\n",
            "  inflating: ._Cora                  \n",
            "  inflating: Cora/._edges.csv        \n",
            "  inflating: Cora/edges.csv          \n",
            "  inflating: Cora/._group-edges.csv  \n",
            "  inflating: Cora/group-edges.csv    \n"
          ]
        }
      ],
      "source": [
        "import numpy as np\n",
        "import os\n",
        "import igraph\n",
        "import networkx as nx\n",
        "from sklearn.model_selection import train_test_split\n",
        "import pandas as pd\n",
        "from sklearn.metrics import accuracy_score\n",
        "from sklearn.metrics import classification_report\n",
        "from numpy import dot\n",
        "from numpy.linalg import norm\n",
        "from igraph import Graph\n",
        "import math\n",
        "\n",
        "from collections import Counter\n",
        "import matplotlib.pyplot as plt\n",
        "!unzip \"Cora.zip\""
      ]
    },
    {
      "cell_type": "code",
      "execution_count": null,
      "metadata": {
        "colab": {
          "base_uri": "https://localhost:8080/"
        },
        "id": "x91rSYec3lQb",
        "outputId": "fb6be5aa-869c-407b-962c-ed5d13dbf8b9"
      },
      "outputs": [
        {
          "output_type": "stream",
          "name": "stdout",
          "text": [
            "README\n",
            "cora.cites\n",
            "cora.content\n",
            "31336\t0\t0\t0\t0\t0\t0\t0\t0\t0\t0\t0\t0\t0\t0\t0\t0\t0\t0\t0\t0\t0\t0\t0\t0\t0\t0\t0\t0\t0\t0\t0\t0\t0\t0\t0\t0\t0\t0\t0\t0\t0\t0\t0\t0\t0\t0\t0\t0\t0\t0\t0\t0\t0\t0\t0\t0\t0\t0\t0\t0\t0\t0\t0\t0\t0\t0\t0\t0\t0\t0\t0\t0\t0\t0\t0\t0\t0\t0\t0\t0\t0\t0\t0\t0\t0\t0\t0\t0\t0\t0\t0\t0\t0\t0\t0\t0\t0\t0\t0\t0\t0\t0\t0\t0\t0\t0\t0\t0\t0\t0\t0\t0\t0\t0\t0\t0\t0\t0\t1\t0\t0\t0\t0\t0\t0\t1\t0\t0\t0\t0\t0\t0\t0\t0\t0\t0\t0\t0\t0\t0\t0\t0\t0\t0\t0\t0\t0\t0\t0\t0\t0\t0\t0\t0\t0\t0\t0\t0\t0\t0\t0\t0\t0\t0\t0\t0\t0\t0\t0\t0\t0\t0\t0\t0\t0\t0\t1\t0\t0\t0\t0\t0\t0\t0\t0\t0\t0\t0\t0\t0\t0\t0\t0\t0\t0\t0\t0\t0\t0\t0\t0\t0\t0\t0\t0\t0\t0\t0\t0\t0\t0\t0\t0\t0\t0\t0\t0\t0\t0\t0\t0\t0\t0\t0\t0\t0\t0\t0\t0\t0\t0\t0\t0\t0\t0\t0\t0\t0\t0\t0\t0\t0\t0\t0\t0\t0\t0\t0\t0\t0\t0\t0\t1\t0\t0\t0\t0\t0\t0\t0\t0\t0\t0\t0\t0\t0\t0\t0\t0\t0\t0\t0\t0\t0\t0\t0\t0\t0\t0\t0\t0\t0\t0\t0\t0\t0\t0\t0\t0\t0\t0\t0\t0\t0\t0\t0\t0\t0\t0\t0\t0\t0\t0\t0\t0\t0\t0\t0\t0\t0\t0\t0\t0\t0\t0\t0\t0\t0\t0\t0\t0\t0\t0\t0\t0\t0\t0\t0\t0\t0\t0\t0\t0\t0\t0\t0\t0\t0\t0\t0\t0\t0\t0\t0\t0\t0\t0\t0\t0\t0\t0\t1\t0\t0\t0\t0\t0\t0\t0\t0\t0\t0\t0\t0\t0\t0\t0\t0\t0\t0\t0\t0\t0\t0\t0\t0\t0\t0\t0\t0\t0\t0\t0\t0\t0\t0\t0\t0\t0\t0\t0\t0\t0\t0\t0\t0\t0\t0\t0\t0\t0\t0\t0\t0\t0\t0\t0\t0\t0\t0\t0\t0\t0\t0\t0\t0\t0\t0\t0\t0\t0\t0\t0\t0\t0\t0\t0\t0\t0\t0\t0\t0\t0\t0\t0\t0\t0\t0\t0\t0\t0\t0\t0\t0\t0\t0\t0\t0\t0\t0\t0\t0\t0\t0\t0\t0\t1\t0\t0\t0\t0\t0\t0\t0\t0\t0\t0\t0\t0\t0\t0\t0\t0\t0\t0\t0\t0\t0\t0\t0\t0\t0\t0\t0\t0\t0\t0\t0\t0\t0\t0\t0\t0\t0\t0\t0\t0\t0\t0\t0\t0\t0\t0\t0\t0\t0\t0\t1\t0\t0\t0\t0\t0\t0\t0\t0\t0\t0\t0\t0\t0\t1\t0\t0\t0\t0\t0\t0\t0\t0\t0\t0\t0\t0\t0\t0\t0\t0\t0\t0\t0\t0\t0\t0\t0\t0\t0\t0\t0\t0\t0\t0\t0\t0\t0\t0\t0\t0\t0\t0\t0\t0\t0\t0\t0\t0\t0\t0\t0\t0\t0\t0\t0\t0\t0\t0\t0\t0\t0\t0\t0\t0\t0\t0\t0\t0\t0\t0\t0\t0\t0\t0\t0\t0\t0\t0\t0\t0\t0\t0\t0\t0\t0\t0\t0\t0\t0\t0\t0\t0\t0\t0\t0\t0\t0\t0\t0\t0\t0\t1\t0\t0\t0\t0\t0\t0\t0\t0\t0\t0\t0\t0\t0\t0\t0\t0\t0\t0\t0\t0\t0\t0\t0\t0\t0\t0\t0\t0\t1\t0\t0\t0\t0\t0\t0\t0\t0\t0\t0\t0\t0\t0\t0\t0\t0\t0\t0\t0\t0\t0\t0\t0\t0\t0\t0\t0\t0\t0\t0\t0\t0\t0\t0\t0\t0\t0\t0\t0\t0\t0\t0\t0\t0\t0\t0\t0\t0\t0\t1\t0\t0\t0\t1\t0\t0\t0\t0\t0\t0\t0\t0\t0\t0\t0\t0\t0\t0\t0\t0\t0\t0\t0\t0\t0\t0\t0\t0\t0\t0\t0\t0\t0\t0\t0\t1\t0\t0\t0\t0\t0\t0\t0\t0\t0\t0\t0\t0\t0\t0\t0\t0\t0\t0\t0\t0\t0\t0\t0\t0\t0\t0\t0\t0\t0\t0\t0\t0\t0\t0\t0\t0\t0\t0\t0\t0\t0\t0\t0\t0\t0\t0\t0\t0\t0\t0\t0\t0\t0\t0\t0\t0\t0\t0\t0\t0\t0\t0\t0\t0\t0\t0\t0\t0\t0\t0\t0\t0\t0\t0\t0\t0\t0\t0\t0\t0\t0\t0\t0\t0\t0\t0\t0\t0\t0\t0\t0\t0\t0\t0\t0\t0\t0\t0\t0\t0\t0\t0\t0\t0\t0\t0\t0\t0\t0\t0\t1\t0\t0\t0\t0\t0\t0\t0\t0\t0\t0\t0\t0\t0\t0\t0\t0\t0\t0\t0\t0\t0\t0\t0\t0\t0\t0\t0\t0\t0\t0\t0\t0\t0\t0\t0\t0\t0\t0\t0\t0\t0\t0\t0\t0\t0\t0\t0\t0\t0\t0\t0\t0\t0\t0\t0\t0\t1\t0\t0\t0\t0\t0\t0\t0\t0\t0\t0\t0\t0\t0\t0\t0\t0\t0\t0\t0\t0\t0\t0\t0\t0\t0\t0\t0\t0\t0\t0\t0\t0\t0\t0\t0\t0\t0\t0\t0\t0\t0\t0\t0\t0\t0\t0\t0\t0\t0\t0\t0\t0\t0\t0\t0\t0\t0\t0\t0\t0\t0\t0\t0\t0\t0\t0\t0\t0\t0\t0\t0\t0\t0\t0\t0\t0\t0\t0\t0\t0\t0\t0\t0\t0\t0\t0\t0\t0\t0\t0\t0\t0\t0\t0\t0\t0\t0\t0\t0\t0\t0\t0\t0\t0\t0\t0\t0\t0\t0\t0\t0\t0\t0\t0\t0\t0\t0\t0\t0\t0\t0\t0\t0\t0\t0\t0\t0\t0\t0\t0\t0\t0\t0\t0\t0\t0\t0\t0\t0\t0\t0\t0\t0\t0\t0\t0\t0\t0\t0\t0\t0\t0\t0\t0\t0\t0\t0\t0\t0\t0\t0\t0\t0\t0\t0\t0\t0\t0\t0\t0\t0\t0\t0\t0\t0\t0\t0\t0\t0\t0\t0\t0\t0\t0\t0\t0\t0\t0\t0\t0\t0\t0\t0\t0\t0\t0\t0\t0\t0\t0\t0\t0\t0\t0\t0\t0\t0\t0\t0\t0\t0\t0\t0\t0\t0\t0\t0\t0\t0\t0\t0\t0\t0\t0\t0\t0\t0\t0\t0\t0\t0\t0\t0\t0\t0\t0\t0\t0\t0\t0\t0\t0\t0\t0\t0\t0\t0\t0\t0\t0\t0\t0\t0\t0\t0\t0\t0\t0\t0\t0\t0\t0\t0\t0\t0\t0\t0\t0\t0\t0\t0\t0\t0\t0\t0\t0\t0\t0\t0\t0\t0\t0\t0\t0\t0\t0\t0\t0\t0\t0\t0\t0\t0\t0\t0\t0\t0\t0\t0\t0\t0\t0\t1\t0\t0\t0\t1\t0\t0\t0\t0\t0\t0\t0\t0\t0\t0\t0\t0\t0\t0\t0\t0\t0\t0\t0\t0\t0\t0\t0\t0\t0\t0\t1\t0\t0\t0\t0\t0\t0\t0\t0\t0\t0\t0\t0\t0\t0\t0\t0\t0\t0\t0\t0\t0\t0\t0\t0\t0\t0\t0\t0\t0\t0\t0\t0\t0\t0\t0\t0\t0\t0\t0\t0\t0\t0\t0\t0\t0\t0\t0\t0\t0\t0\t0\t0\t0\t0\t0\t0\t0\t0\t0\t0\t0\t0\t0\t0\t0\t0\t0\t0\t0\t0\t0\t0\t0\t0\t0\t0\t0\t0\t0\t0\t0\t0\t0\t0\t0\t0\t0\t0\t0\t0\t0\t0\t0\t0\t0\t0\t0\t0\t0\t0\t0\t0\t0\t0\t0\t0\t0\t0\t0\t0\t0\t0\t0\t0\t0\t1\t0\t0\t0\t0\t0\t0\t0\t0\t0\t0\t0\t0\t0\t0\t0\t0\t0\t0\t0\t0\t0\t0\t0\t0\t0\t0\t0\t0\t0\t0\t0\t0\t0\t0\t0\t0\t0\t0\t0\t0\t0\t0\t0\t0\t0\t0\t0\t0\t0\t0\t0\t0\t0\t0\t0\t0\t0\t0\t0\t0\t0\t0\t0\t0\t0\t0\t0\t0\t0\t0\t0\t0\t0\t1\t0\t0\t0\t0\t0\t0\tNeural_Networks\n"
          ]
        }
      ],
      "source": [
        "all_data = []\n",
        "all_edges = []\n",
        "\n",
        "for root,dirs,files in os.walk('./cora'):\n",
        "    #print(root)\n",
        "    #print(dirs)\n",
        "    #print(files)\n",
        "    #print('--------------------------------')\n",
        "    for file in files:\n",
        "        print(file)\n",
        "        if '.content' in file:\n",
        "            with open(os.path.join(root,file),'r') as f:\n",
        "                all_data.extend(f.read().splitlines())\n",
        "        elif 'cites' in file:\n",
        "            with open(os.path.join(root,file),'r') as f:\n",
        "                all_edges.extend(f.read().splitlines())\n",
        "\n",
        "print(all_data[0])                \n",
        "#random_state = 42\n",
        "#all_data = shuffle(all_data,random_state=random_state)"
      ]
    },
    {
      "cell_type": "code",
      "execution_count": null,
      "metadata": {
        "colab": {
          "base_uri": "https://localhost:8080/"
        },
        "id": "aS4GfV8pCPbF",
        "outputId": "1d8c37ad-e9cb-4801-df18-bb88800b4567"
      },
      "outputs": [
        {
          "output_type": "execute_result",
          "data": {
            "text/plain": [
              "{'Case_Based': 0,\n",
              " 'Genetic_Algorithms': 1,\n",
              " 'Neural_Networks': 2,\n",
              " 'Probabilistic_Methods': 3,\n",
              " 'Reinforcement_Learning': 4,\n",
              " 'Rule_Learning': 5,\n",
              " 'Theory': 6}"
            ]
          },
          "metadata": {},
          "execution_count": 4
        }
      ],
      "source": [
        "categories =  ['Reinforcement_Learning', 'Theory', 'Case_Based', 'Genetic_Algorithms', 'Probabilistic_Methods', 'Neural_Networks', 'Rule_Learning']\n",
        "sorted(categories)\n",
        "label_encoder = {}\n",
        "i = 0\n",
        "for cat in sorted(categories):\n",
        "  label_encoder[cat] = i\n",
        "  i +=1\n",
        "label_encoder\n"
      ]
    },
    {
      "cell_type": "code",
      "execution_count": null,
      "metadata": {
        "colab": {
          "base_uri": "https://localhost:8080/"
        },
        "id": "yAK_lPbU4Rxo",
        "outputId": "5d6020a8-ba12-4519-e9ff-56a638a26a16"
      },
      "outputs": [
        {
          "output_type": "stream",
          "name": "stdout",
          "text": [
            "X shape:  (2708, 1433)\n",
            "\n",
            "Number of nodes (N):  2708\n",
            "\n",
            "Number of features (F) of each node:  1433\n",
            "\n",
            "Categories:  {0, 1, 2, 3, 4, 5, 6}\n",
            "\n",
            "Number of classes:  7\n"
          ]
        }
      ],
      "source": [
        "#parse the data\n",
        "labels = []\n",
        "nodes = []\n",
        "X = []\n",
        "element_to_ind  = {}\n",
        "\n",
        "for i,data in enumerate(all_data):\n",
        "    elements = data.split('\\t')\n",
        "    labels.append(label_encoder[elements[-1]])\n",
        "    X.append(elements[1:-1])\n",
        "    #print(X)\n",
        "    nodes.append(elements[0])\n",
        "    element_to_ind[elements[0]]= i\n",
        "\n",
        "X = np.array(X,dtype=int)\n",
        "N = X.shape[0] #the number of nodes\n",
        "\n",
        "F = X.shape[1] #the size of node features\n",
        "print('X shape: ', X.shape)\n",
        "\n",
        "\n",
        "#parse the edge\n",
        "edge_list=[]\n",
        "for edge in all_edges:\n",
        "    e = edge.split('\\t')\n",
        "    edge_list.append((e[0],e[1]))\n",
        "\n",
        "print('\\nNumber of nodes (N): ', N)\n",
        "print('\\nNumber of features (F) of each node: ', F)\n",
        "print('\\nCategories: ', set(labels))\n",
        "\n",
        "num_classes = len(set(labels))\n",
        "print('\\nNumber of classes: ', num_classes)"
      ]
    },
    {
      "cell_type": "code",
      "execution_count": null,
      "metadata": {
        "colab": {
          "base_uri": "https://localhost:8080/"
        },
        "id": "Z3m0ubWRG1Yo",
        "outputId": "842c8ac6-4346-47da-b0a5-0459ada794a1"
      },
      "outputs": [
        {
          "output_type": "stream",
          "name": "stdout",
          "text": [
            "Graph info:  Graph with 2708 nodes and 5278 edges\n"
          ]
        }
      ],
      "source": [
        "G = nx.Graph()\n",
        "G.add_nodes_from(nodes)\n",
        "G.add_edges_from(edge_list)\n",
        "G = nx.relabel_nodes(G, element_to_ind)\n",
        "print('Graph info: ', nx.info(G))"
      ]
    },
    {
      "cell_type": "code",
      "execution_count": null,
      "metadata": {
        "colab": {
          "base_uri": "https://localhost:8080/"
        },
        "id": "u0uzStOYth_g",
        "outputId": "39b6a91f-4ae8-47c9-9f28-c387279463c9"
      },
      "outputs": [
        {
          "output_type": "stream",
          "name": "stdout",
          "text": [
            "2708\n"
          ]
        },
        {
          "output_type": "execute_result",
          "data": {
            "text/plain": [
              "[258, 544, 8, 435, 14]"
            ]
          },
          "metadata": {},
          "execution_count": 7
        }
      ],
      "source": [
        "nodes = list(G.nodes)\n",
        "print(len(nodes))\n",
        "list(G.neighbors(0))"
      ]
    },
    {
      "cell_type": "code",
      "execution_count": null,
      "metadata": {
        "colab": {
          "base_uri": "https://localhost:8080/",
          "height": 223
        },
        "id": "6he3sYO8-kf_",
        "outputId": "ee200a38-a7f8-4700-b973-b7a6ecb3ff8f"
      },
      "outputs": [
        {
          "output_type": "stream",
          "name": "stdout",
          "text": [
            "2708\n"
          ]
        },
        {
          "output_type": "execute_result",
          "data": {
            "text/plain": [
              "   node  label                                           features\n",
              "0     0      2  [0, 0, 0, 0, 0, 0, 0, 0, 0, 0, 0, 0, 0, 0, 0, ...\n",
              "1     1      5  [0, 0, 0, 0, 0, 0, 0, 0, 0, 0, 0, 0, 1, 0, 0, ...\n",
              "2     2      4  [0, 0, 0, 0, 0, 0, 0, 0, 0, 0, 0, 0, 0, 0, 0, ...\n",
              "3     3      4  [0, 0, 0, 0, 0, 0, 0, 0, 0, 0, 0, 0, 0, 0, 0, ...\n",
              "4     4      3  [0, 0, 0, 0, 0, 0, 0, 0, 0, 0, 0, 0, 0, 0, 0, ..."
            ],
            "text/html": [
              "\n",
              "  <div id=\"df-4571908b-9356-48c5-8d97-e3e2c5f00eee\">\n",
              "    <div class=\"colab-df-container\">\n",
              "      <div>\n",
              "<style scoped>\n",
              "    .dataframe tbody tr th:only-of-type {\n",
              "        vertical-align: middle;\n",
              "    }\n",
              "\n",
              "    .dataframe tbody tr th {\n",
              "        vertical-align: top;\n",
              "    }\n",
              "\n",
              "    .dataframe thead th {\n",
              "        text-align: right;\n",
              "    }\n",
              "</style>\n",
              "<table border=\"1\" class=\"dataframe\">\n",
              "  <thead>\n",
              "    <tr style=\"text-align: right;\">\n",
              "      <th></th>\n",
              "      <th>node</th>\n",
              "      <th>label</th>\n",
              "      <th>features</th>\n",
              "    </tr>\n",
              "  </thead>\n",
              "  <tbody>\n",
              "    <tr>\n",
              "      <th>0</th>\n",
              "      <td>0</td>\n",
              "      <td>2</td>\n",
              "      <td>[0, 0, 0, 0, 0, 0, 0, 0, 0, 0, 0, 0, 0, 0, 0, ...</td>\n",
              "    </tr>\n",
              "    <tr>\n",
              "      <th>1</th>\n",
              "      <td>1</td>\n",
              "      <td>5</td>\n",
              "      <td>[0, 0, 0, 0, 0, 0, 0, 0, 0, 0, 0, 0, 1, 0, 0, ...</td>\n",
              "    </tr>\n",
              "    <tr>\n",
              "      <th>2</th>\n",
              "      <td>2</td>\n",
              "      <td>4</td>\n",
              "      <td>[0, 0, 0, 0, 0, 0, 0, 0, 0, 0, 0, 0, 0, 0, 0, ...</td>\n",
              "    </tr>\n",
              "    <tr>\n",
              "      <th>3</th>\n",
              "      <td>3</td>\n",
              "      <td>4</td>\n",
              "      <td>[0, 0, 0, 0, 0, 0, 0, 0, 0, 0, 0, 0, 0, 0, 0, ...</td>\n",
              "    </tr>\n",
              "    <tr>\n",
              "      <th>4</th>\n",
              "      <td>4</td>\n",
              "      <td>3</td>\n",
              "      <td>[0, 0, 0, 0, 0, 0, 0, 0, 0, 0, 0, 0, 0, 0, 0, ...</td>\n",
              "    </tr>\n",
              "  </tbody>\n",
              "</table>\n",
              "</div>\n",
              "      <button class=\"colab-df-convert\" onclick=\"convertToInteractive('df-4571908b-9356-48c5-8d97-e3e2c5f00eee')\"\n",
              "              title=\"Convert this dataframe to an interactive table.\"\n",
              "              style=\"display:none;\">\n",
              "        \n",
              "  <svg xmlns=\"http://www.w3.org/2000/svg\" height=\"24px\"viewBox=\"0 0 24 24\"\n",
              "       width=\"24px\">\n",
              "    <path d=\"M0 0h24v24H0V0z\" fill=\"none\"/>\n",
              "    <path d=\"M18.56 5.44l.94 2.06.94-2.06 2.06-.94-2.06-.94-.94-2.06-.94 2.06-2.06.94zm-11 1L8.5 8.5l.94-2.06 2.06-.94-2.06-.94L8.5 2.5l-.94 2.06-2.06.94zm10 10l.94 2.06.94-2.06 2.06-.94-2.06-.94-.94-2.06-.94 2.06-2.06.94z\"/><path d=\"M17.41 7.96l-1.37-1.37c-.4-.4-.92-.59-1.43-.59-.52 0-1.04.2-1.43.59L10.3 9.45l-7.72 7.72c-.78.78-.78 2.05 0 2.83L4 21.41c.39.39.9.59 1.41.59.51 0 1.02-.2 1.41-.59l7.78-7.78 2.81-2.81c.8-.78.8-2.07 0-2.86zM5.41 20L4 18.59l7.72-7.72 1.47 1.35L5.41 20z\"/>\n",
              "  </svg>\n",
              "      </button>\n",
              "      \n",
              "  <style>\n",
              "    .colab-df-container {\n",
              "      display:flex;\n",
              "      flex-wrap:wrap;\n",
              "      gap: 12px;\n",
              "    }\n",
              "\n",
              "    .colab-df-convert {\n",
              "      background-color: #E8F0FE;\n",
              "      border: none;\n",
              "      border-radius: 50%;\n",
              "      cursor: pointer;\n",
              "      display: none;\n",
              "      fill: #1967D2;\n",
              "      height: 32px;\n",
              "      padding: 0 0 0 0;\n",
              "      width: 32px;\n",
              "    }\n",
              "\n",
              "    .colab-df-convert:hover {\n",
              "      background-color: #E2EBFA;\n",
              "      box-shadow: 0px 1px 2px rgba(60, 64, 67, 0.3), 0px 1px 3px 1px rgba(60, 64, 67, 0.15);\n",
              "      fill: #174EA6;\n",
              "    }\n",
              "\n",
              "    [theme=dark] .colab-df-convert {\n",
              "      background-color: #3B4455;\n",
              "      fill: #D2E3FC;\n",
              "    }\n",
              "\n",
              "    [theme=dark] .colab-df-convert:hover {\n",
              "      background-color: #434B5C;\n",
              "      box-shadow: 0px 1px 3px 1px rgba(0, 0, 0, 0.15);\n",
              "      filter: drop-shadow(0px 1px 2px rgba(0, 0, 0, 0.3));\n",
              "      fill: #FFFFFF;\n",
              "    }\n",
              "  </style>\n",
              "\n",
              "      <script>\n",
              "        const buttonEl =\n",
              "          document.querySelector('#df-4571908b-9356-48c5-8d97-e3e2c5f00eee button.colab-df-convert');\n",
              "        buttonEl.style.display =\n",
              "          google.colab.kernel.accessAllowed ? 'block' : 'none';\n",
              "\n",
              "        async function convertToInteractive(key) {\n",
              "          const element = document.querySelector('#df-4571908b-9356-48c5-8d97-e3e2c5f00eee');\n",
              "          const dataTable =\n",
              "            await google.colab.kernel.invokeFunction('convertToInteractive',\n",
              "                                                     [key], {});\n",
              "          if (!dataTable) return;\n",
              "\n",
              "          const docLinkHtml = 'Like what you see? Visit the ' +\n",
              "            '<a target=\"_blank\" href=https://colab.research.google.com/notebooks/data_table.ipynb>data table notebook</a>'\n",
              "            + ' to learn more about interactive tables.';\n",
              "          element.innerHTML = '';\n",
              "          dataTable['output_type'] = 'display_data';\n",
              "          await google.colab.output.renderOutput(dataTable, element);\n",
              "          const docLink = document.createElement('div');\n",
              "          docLink.innerHTML = docLinkHtml;\n",
              "          element.appendChild(docLink);\n",
              "        }\n",
              "      </script>\n",
              "    </div>\n",
              "  </div>\n",
              "  "
            ]
          },
          "metadata": {},
          "execution_count": 8
        }
      ],
      "source": [
        "df = pd.DataFrame(list(zip(nodes, labels,X)),columns =['node', 'label','features'])\n",
        "print(len(df))\n",
        "df.head()"
      ]
    },
    {
      "cell_type": "code",
      "execution_count": null,
      "metadata": {
        "id": "OzKIpJxu4t1R"
      },
      "outputs": [],
      "source": [
        "Gcc = sorted(nx.connected_components(G), key=len, reverse=True)\n",
        "G = G.subgraph(Gcc[0])\n",
        "gcc_nodes = list(G.nodes)\n",
        "#print(gcc_nodes)"
      ]
    },
    {
      "cell_type": "code",
      "execution_count": null,
      "metadata": {
        "colab": {
          "base_uri": "https://localhost:8080/",
          "height": 310
        },
        "id": "LGfGmfIfCagn",
        "outputId": "b10ed52d-a35c-4955-9083-dd1855bb690b"
      },
      "outputs": [
        {
          "output_type": "stream",
          "name": "stderr",
          "text": [
            "/usr/local/lib/python3.7/dist-packages/ipykernel_launcher.py:2: SettingWithCopyWarning: \n",
            "A value is trying to be set on a copy of a slice from a DataFrame.\n",
            "Try using .loc[row_indexer,col_indexer] = value instead\n",
            "\n",
            "See the caveats in the documentation: https://pandas.pydata.org/pandas-docs/stable/user_guide/indexing.html#returning-a-view-versus-a-copy\n",
            "  \n"
          ]
        },
        {
          "output_type": "execute_result",
          "data": {
            "text/plain": [
              "   node  label                                           features\n",
              "0     0      2  [0, 0, 0, 0, 0, 0, 0, 0, 0, 0, 0, 0, 0, 0, 0, ...\n",
              "1     1      5  [0, 0, 0, 0, 0, 0, 0, 0, 0, 0, 0, 0, 1, 0, 0, ...\n",
              "2     2      4  [0, 0, 0, 0, 0, 0, 0, 0, 0, 0, 0, 0, 0, 0, 0, ...\n",
              "3     3      4  [0, 0, 0, 0, 0, 0, 0, 0, 0, 0, 0, 0, 0, 0, 0, ...\n",
              "4     4      3  [0, 0, 0, 0, 0, 0, 0, 0, 0, 0, 0, 0, 0, 0, 0, ..."
            ],
            "text/html": [
              "\n",
              "  <div id=\"df-3eb38e9f-6e25-4df9-937d-e12c7f85bd90\">\n",
              "    <div class=\"colab-df-container\">\n",
              "      <div>\n",
              "<style scoped>\n",
              "    .dataframe tbody tr th:only-of-type {\n",
              "        vertical-align: middle;\n",
              "    }\n",
              "\n",
              "    .dataframe tbody tr th {\n",
              "        vertical-align: top;\n",
              "    }\n",
              "\n",
              "    .dataframe thead th {\n",
              "        text-align: right;\n",
              "    }\n",
              "</style>\n",
              "<table border=\"1\" class=\"dataframe\">\n",
              "  <thead>\n",
              "    <tr style=\"text-align: right;\">\n",
              "      <th></th>\n",
              "      <th>node</th>\n",
              "      <th>label</th>\n",
              "      <th>features</th>\n",
              "    </tr>\n",
              "  </thead>\n",
              "  <tbody>\n",
              "    <tr>\n",
              "      <th>0</th>\n",
              "      <td>0</td>\n",
              "      <td>2</td>\n",
              "      <td>[0, 0, 0, 0, 0, 0, 0, 0, 0, 0, 0, 0, 0, 0, 0, ...</td>\n",
              "    </tr>\n",
              "    <tr>\n",
              "      <th>1</th>\n",
              "      <td>1</td>\n",
              "      <td>5</td>\n",
              "      <td>[0, 0, 0, 0, 0, 0, 0, 0, 0, 0, 0, 0, 1, 0, 0, ...</td>\n",
              "    </tr>\n",
              "    <tr>\n",
              "      <th>2</th>\n",
              "      <td>2</td>\n",
              "      <td>4</td>\n",
              "      <td>[0, 0, 0, 0, 0, 0, 0, 0, 0, 0, 0, 0, 0, 0, 0, ...</td>\n",
              "    </tr>\n",
              "    <tr>\n",
              "      <th>3</th>\n",
              "      <td>3</td>\n",
              "      <td>4</td>\n",
              "      <td>[0, 0, 0, 0, 0, 0, 0, 0, 0, 0, 0, 0, 0, 0, 0, ...</td>\n",
              "    </tr>\n",
              "    <tr>\n",
              "      <th>4</th>\n",
              "      <td>4</td>\n",
              "      <td>3</td>\n",
              "      <td>[0, 0, 0, 0, 0, 0, 0, 0, 0, 0, 0, 0, 0, 0, 0, ...</td>\n",
              "    </tr>\n",
              "  </tbody>\n",
              "</table>\n",
              "</div>\n",
              "      <button class=\"colab-df-convert\" onclick=\"convertToInteractive('df-3eb38e9f-6e25-4df9-937d-e12c7f85bd90')\"\n",
              "              title=\"Convert this dataframe to an interactive table.\"\n",
              "              style=\"display:none;\">\n",
              "        \n",
              "  <svg xmlns=\"http://www.w3.org/2000/svg\" height=\"24px\"viewBox=\"0 0 24 24\"\n",
              "       width=\"24px\">\n",
              "    <path d=\"M0 0h24v24H0V0z\" fill=\"none\"/>\n",
              "    <path d=\"M18.56 5.44l.94 2.06.94-2.06 2.06-.94-2.06-.94-.94-2.06-.94 2.06-2.06.94zm-11 1L8.5 8.5l.94-2.06 2.06-.94-2.06-.94L8.5 2.5l-.94 2.06-2.06.94zm10 10l.94 2.06.94-2.06 2.06-.94-2.06-.94-.94-2.06-.94 2.06-2.06.94z\"/><path d=\"M17.41 7.96l-1.37-1.37c-.4-.4-.92-.59-1.43-.59-.52 0-1.04.2-1.43.59L10.3 9.45l-7.72 7.72c-.78.78-.78 2.05 0 2.83L4 21.41c.39.39.9.59 1.41.59.51 0 1.02-.2 1.41-.59l7.78-7.78 2.81-2.81c.8-.78.8-2.07 0-2.86zM5.41 20L4 18.59l7.72-7.72 1.47 1.35L5.41 20z\"/>\n",
              "  </svg>\n",
              "      </button>\n",
              "      \n",
              "  <style>\n",
              "    .colab-df-container {\n",
              "      display:flex;\n",
              "      flex-wrap:wrap;\n",
              "      gap: 12px;\n",
              "    }\n",
              "\n",
              "    .colab-df-convert {\n",
              "      background-color: #E8F0FE;\n",
              "      border: none;\n",
              "      border-radius: 50%;\n",
              "      cursor: pointer;\n",
              "      display: none;\n",
              "      fill: #1967D2;\n",
              "      height: 32px;\n",
              "      padding: 0 0 0 0;\n",
              "      width: 32px;\n",
              "    }\n",
              "\n",
              "    .colab-df-convert:hover {\n",
              "      background-color: #E2EBFA;\n",
              "      box-shadow: 0px 1px 2px rgba(60, 64, 67, 0.3), 0px 1px 3px 1px rgba(60, 64, 67, 0.15);\n",
              "      fill: #174EA6;\n",
              "    }\n",
              "\n",
              "    [theme=dark] .colab-df-convert {\n",
              "      background-color: #3B4455;\n",
              "      fill: #D2E3FC;\n",
              "    }\n",
              "\n",
              "    [theme=dark] .colab-df-convert:hover {\n",
              "      background-color: #434B5C;\n",
              "      box-shadow: 0px 1px 3px 1px rgba(0, 0, 0, 0.15);\n",
              "      filter: drop-shadow(0px 1px 2px rgba(0, 0, 0, 0.3));\n",
              "      fill: #FFFFFF;\n",
              "    }\n",
              "  </style>\n",
              "\n",
              "      <script>\n",
              "        const buttonEl =\n",
              "          document.querySelector('#df-3eb38e9f-6e25-4df9-937d-e12c7f85bd90 button.colab-df-convert');\n",
              "        buttonEl.style.display =\n",
              "          google.colab.kernel.accessAllowed ? 'block' : 'none';\n",
              "\n",
              "        async function convertToInteractive(key) {\n",
              "          const element = document.querySelector('#df-3eb38e9f-6e25-4df9-937d-e12c7f85bd90');\n",
              "          const dataTable =\n",
              "            await google.colab.kernel.invokeFunction('convertToInteractive',\n",
              "                                                     [key], {});\n",
              "          if (!dataTable) return;\n",
              "\n",
              "          const docLinkHtml = 'Like what you see? Visit the ' +\n",
              "            '<a target=\"_blank\" href=https://colab.research.google.com/notebooks/data_table.ipynb>data table notebook</a>'\n",
              "            + ' to learn more about interactive tables.';\n",
              "          element.innerHTML = '';\n",
              "          dataTable['output_type'] = 'display_data';\n",
              "          await google.colab.output.renderOutput(dataTable, element);\n",
              "          const docLink = document.createElement('div');\n",
              "          docLink.innerHTML = docLinkHtml;\n",
              "          element.appendChild(docLink);\n",
              "        }\n",
              "      </script>\n",
              "    </div>\n",
              "  </div>\n",
              "  "
            ]
          },
          "metadata": {},
          "execution_count": 10
        }
      ],
      "source": [
        "df = df.loc[df['node'].isin(gcc_nodes)]\n",
        "df['node'] = list(range(len(df))) #rename nodes \n",
        "df.head()"
      ]
    },
    {
      "cell_type": "code",
      "execution_count": null,
      "metadata": {
        "id": "eTFmrdSkFbkC"
      },
      "outputs": [],
      "source": [
        "train = df.groupby('label', group_keys=False).apply(lambda x: x.sample(20))\n",
        "G = nx.relabel_nodes(G, df['node'])"
      ]
    },
    {
      "cell_type": "code",
      "execution_count": null,
      "metadata": {
        "id": "-TbwmeDAoMyg"
      },
      "outputs": [],
      "source": [
        "def create_transition_matrix(g):\n",
        "    vs = list(g.nodes)\n",
        "    n = len(vs)\n",
        "    adj = nx.adjacency_matrix(g)\n",
        "    transition_matrix = adj/adj.sum(axis=1)\n",
        "\n",
        "    return transition_matrix"
      ]
    },
    {
      "cell_type": "code",
      "execution_count": null,
      "metadata": {
        "id": "L2Nq1801raPj"
      },
      "outputs": [],
      "source": [
        "from networkx.algorithms.link_analysis.pagerank_alg import pagerank\n",
        "\n",
        "def random_walk(g, num_steps, start_node, transition_matrix = None):\n",
        "    if transition_matrix is None:\n",
        "        transition_matrix = create_transition_matrix(g)\n",
        "\n",
        "    v = start_node\n",
        "    walked_nodes = range(transition_matrix.shape[0])\n",
        "\n",
        "    for i in range(num_steps):\n",
        "        PMF = transition_matrix[v,]\n",
        "        v = np.random.choice(walked_nodes, p = np.ravel(PMF, order = 'C'))\n",
        "\n",
        "    return v\n"
      ]
    },
    {
      "cell_type": "code",
      "execution_count": null,
      "metadata": {
        "id": "spCD5MySNj12"
      },
      "outputs": [],
      "source": [
        "seeds_dict = {predicted:list(train[train['label'] == predicted]['node']) for predicted in range(7)}\n",
        "\n",
        "def random_walk_with_teleportation(g, num_steps, start_node,tp,predicted, transition_matrix = None):\n",
        "    if transition_matrix is None:\n",
        "        transition_matrix = create_transition_matrix(g)\n",
        "\n",
        "    v = start_node\n",
        "    walked_nodes = range(transition_matrix.shape[0])\n",
        "    seeds = seeds_dict[predicted]\n",
        "\n",
        "    for i in range(num_steps):\n",
        "        run = np.random.uniform(low=0.0, high=1.0, size=None)\n",
        "        if run < tp:\n",
        "            v = np.random.choice(seeds)\n",
        "        else:\n",
        "            PMF = transition_matrix[v,]\n",
        "            v = np.random.choice(walked_nodes, p = np.ravel(PMF, order='C'))\n",
        "\n",
        "    return v\n",
        "\n",
        "\n"
      ]
    },
    {
      "cell_type": "code",
      "execution_count": null,
      "metadata": {
        "id": "LxJql1tNbIuX"
      },
      "outputs": [],
      "source": [
        "#pagerank. NO teleportation, NO tfidf. \n",
        "transition_matrix = create_transition_matrix(G)\n",
        "\n",
        "num_samples = 1000  \n",
        "num_walk_steps = 100\n",
        "\n",
        "visiting_freq_label = []\n",
        "for i in range(transition_matrix.shape[0]):\n",
        "  visiting_freq_label.append([0,0,0,0,0,0,0])\n",
        "\n",
        "visiting_freq = [0 for i in range(transition_matrix.shape[0])]\n",
        "\n",
        "\n",
        "for train_node,predicted in zip(train['node'],train['label']):\n",
        "  #print (train_node,predicted)\n",
        "  for i in range(num_samples):\n",
        "      start_point = train_node\n",
        "      end_node = random_walk(G, num_walk_steps, start_point, transition_matrix)\n",
        "      end_node = int(end_node)\n",
        "      visiting_freq_label[end_node][predicted] += 1\n",
        "      visiting_freq[end_node] +=1"
      ]
    },
    {
      "cell_type": "code",
      "execution_count": null,
      "metadata": {
        "colab": {
          "base_uri": "https://localhost:8080/"
        },
        "outputId": "d3fdc1be-ce5b-4def-fd49-a06e0d6aabda",
        "id": "YRZlm6QdbIug"
      },
      "outputs": [
        {
          "name": "stdout",
          "output_type": "stream",
          "text": [
            "Pagerank Random Walk with No teleportation, No TF-IDF \n",
            "unvisited =  0\n",
            "              precision    recall  f1-score   support\n",
            "\n",
            "           0       0.31      0.52      0.39       285\n",
            "           1       0.47      0.52      0.49       406\n",
            "           2       0.57      0.27      0.36       726\n",
            "           3       0.54      0.52      0.53       379\n",
            "           4       0.14      0.19      0.16       214\n",
            "           5       0.10      0.22      0.14       131\n",
            "           6       0.24      0.18      0.20       344\n",
            "\n",
            "    accuracy                           0.35      2485\n",
            "   macro avg       0.34      0.35      0.32      2485\n",
            "weighted avg       0.41      0.35      0.36      2485\n",
            "\n"
          ]
        },
        {
          "data": {
            "text/plain": [
              "0.35492957746478876"
            ]
          },
          "execution_count": 16,
          "metadata": {},
          "output_type": "execute_result"
        }
      ],
      "source": [
        "count = 0 #these many nodes remain unvisited. \n",
        "for vf in visiting_freq:\n",
        "  if vf ==0:\n",
        "    count+=1\n",
        "print(\"Pagerank Random Walk with No teleportation, No TF-IDF \")\n",
        "print('unvisited = ', count)\n",
        "visiting_freq_label = np.asarray(visiting_freq_label)\n",
        "preds = np.argmax(visiting_freq_label,axis = 1)\n",
        "print(classification_report(df['label'], preds))\n",
        "accuracy_score(df['label'], preds)"
      ]
    },
    {
      "cell_type": "code",
      "execution_count": null,
      "metadata": {
        "colab": {
          "base_uri": "https://localhost:8080/"
        },
        "id": "LL7DHNaNM1E0",
        "outputId": "9be06c2a-37ff-491e-e06d-39e4b6823e66"
      },
      "outputs": [
        {
          "output_type": "stream",
          "name": "stdout",
          "text": [
            "Pagerank Random Walk with teleportation, No TF-IDF \n",
            "unvisited =  18\n",
            "              precision    recall  f1-score   support\n",
            "\n",
            "           0       0.68      0.78      0.73       285\n",
            "           1       0.78      0.89      0.83       406\n",
            "           2       0.83      0.57      0.68       726\n",
            "           3       0.79      0.74      0.77       379\n",
            "           4       0.67      0.82      0.74       214\n",
            "           5       0.42      0.82      0.55       131\n",
            "           6       0.64      0.61      0.62       344\n",
            "\n",
            "    accuracy                           0.71      2485\n",
            "   macro avg       0.69      0.75      0.70      2485\n",
            "weighted avg       0.74      0.71      0.71      2485\n",
            "\n"
          ]
        },
        {
          "output_type": "execute_result",
          "data": {
            "text/plain": [
              "0.7118712273641851"
            ]
          },
          "metadata": {},
          "execution_count": 15
        }
      ],
      "source": [
        "#pagerank. WITH telportation, without tfidf \n",
        "\n",
        "#repeat above experiment but this time use the teleportation random walk \n",
        "\n",
        "#get metrics\n",
        "transition_matrix = create_transition_matrix(G)\n",
        "\n",
        "num_samples = 1000  \n",
        "num_walk_steps = 100\n",
        "\n",
        "visiting_freq_label = []\n",
        "for i in range(transition_matrix.shape[0]):\n",
        "  visiting_freq_label.append([0,0,0,0,0,0,0])\n",
        "\n",
        "visiting_freq = [0 for i in range(transition_matrix.shape[0])]\n",
        "\n",
        "telep_prob = [0.1]\n",
        "\n",
        "for train_node,predicted in zip(train['node'],train['label']):\n",
        "    for tp in telep_prob:\n",
        "  #print (train_node,predicted)\n",
        "        for i in range(num_samples):\n",
        "            start_point = train_node\n",
        "            end_node = random_walk_with_teleportation(G, num_walk_steps, start_point, tp, predicted, transition_matrix)\n",
        "            end_node = int(end_node)\n",
        "            visiting_freq_label[end_node][predicted] += 1\n",
        "            visiting_freq[end_node] +=1\n",
        "\n",
        "count = 0 #these many nodes remain unvisited. \n",
        "for vf in visiting_freq:\n",
        "    if vf ==0:\n",
        "        count+=1\n",
        "\n",
        "print(\"Pagerank Random Walk with teleportation, No TF-IDF \")\n",
        "print('unvisited = ', count)\n",
        "visiting_freq_label = np.asarray(visiting_freq_label)\n",
        "preds = np.argmax(visiting_freq_label,axis = 1)\n",
        "print(classification_report(df['label'], preds))\n",
        "accuracy_score(df['label'], preds)"
      ]
    },
    {
      "cell_type": "code",
      "source": [
        "#pagerank. WITH telportation, without tfidf \n",
        "\n",
        "#repeat above experiment but this time use the teleportation random walk \n",
        "\n",
        "#get metrics\n",
        "transition_matrix = create_transition_matrix(G)\n",
        "\n",
        "num_samples = 1000  \n",
        "num_walk_steps = 100\n",
        "\n",
        "visiting_freq_label = []\n",
        "for i in range(transition_matrix.shape[0]):\n",
        "  visiting_freq_label.append([0,0,0,0,0,0,0])\n",
        "\n",
        "visiting_freq = [0 for i in range(transition_matrix.shape[0])]\n",
        "\n",
        "telep_prob = [0.2]\n",
        "\n",
        "for train_node,predicted in zip(train['node'],train['label']):\n",
        "    for tp in telep_prob:\n",
        "  #print (train_node,predicted)\n",
        "        for i in range(num_samples):\n",
        "            start_point = train_node\n",
        "            end_node = random_walk_with_teleportation(G, num_walk_steps, start_point, tp, predicted, transition_matrix)\n",
        "            end_node = int(end_node)\n",
        "            visiting_freq_label[end_node][predicted] += 1\n",
        "            visiting_freq[end_node] +=1\n",
        "\n",
        "count = 0 #these many nodes remain unvisited. \n",
        "for vf in visiting_freq:\n",
        "    if vf ==0:\n",
        "        count+=1\n",
        "\n",
        "print(\"Pagerank Random Walk with teleportation, No TF-IDF \")\n",
        "print('unvisited = ', count)\n",
        "visiting_freq_label = np.asarray(visiting_freq_label)\n",
        "preds = np.argmax(visiting_freq_label,axis = 1)\n",
        "print(classification_report(df['label'], preds))\n",
        "accuracy_score(df['label'], preds)"
      ],
      "metadata": {
        "colab": {
          "base_uri": "https://localhost:8080/"
        },
        "id": "91740lGec5s7",
        "outputId": "521e0b8c-4a97-4227-dccd-dd04c541cb26"
      },
      "execution_count": null,
      "outputs": [
        {
          "output_type": "stream",
          "name": "stdout",
          "text": [
            "Pagerank Random Walk with teleportation, No TF-IDF \n",
            "unvisited =  64\n",
            "              precision    recall  f1-score   support\n",
            "\n",
            "           0       0.59      0.79      0.68       285\n",
            "           1       0.81      0.86      0.83       406\n",
            "           2       0.82      0.58      0.68       726\n",
            "           3       0.80      0.72      0.76       379\n",
            "           4       0.65      0.79      0.71       214\n",
            "           5       0.40      0.76      0.53       131\n",
            "           6       0.64      0.59      0.61       344\n",
            "\n",
            "    accuracy                           0.70      2485\n",
            "   macro avg       0.67      0.73      0.69      2485\n",
            "weighted avg       0.73      0.70      0.70      2485\n",
            "\n"
          ]
        },
        {
          "output_type": "execute_result",
          "data": {
            "text/plain": [
              "0.6985915492957746"
            ]
          },
          "metadata": {},
          "execution_count": 16
        }
      ]
    },
    {
      "cell_type": "code",
      "execution_count": null,
      "metadata": {
        "id": "qAE5ZH3vWdD0"
      },
      "outputs": [],
      "source": [
        "vs = list(G.nodes)\n",
        "n = len(vs)\n",
        "adj = nx.adjacency_matrix(G)\n",
        "transition = np.zeros((len(G.nodes), len(G.nodes)))\n",
        "\n",
        "#f1 anf f2 comes from the tfiDF\n",
        "\n",
        "for n1 in nodes:\n",
        "    for n2 in nodes:\n",
        "    # if there is an edge between n1 and n2:\n",
        "        if G.has_edge(n1,n2):\n",
        "            f1 = list(df['features'])[n1]\n",
        "            f2 = list(df['features'])[n2]\n",
        "      # cos_sim = compute cosine similarity between features of n1 and n2\n",
        "            cos_sim = np.dot(f1, f2)/(norm(f1)*norm(f2))\n",
        "            transition[n1,n2] = np.exp(cos_sim) #neumerator of softmax. #why do we need softmax?  \n",
        "#divide the values in transition by denominator of softmax. how will you do this? \n",
        "\n",
        "transition = transition/transition.sum(axis=1, keepdims=True) \n"
      ]
    },
    {
      "cell_type": "code",
      "execution_count": null,
      "metadata": {
        "colab": {
          "base_uri": "https://localhost:8080/"
        },
        "id": "CK9fLkhBwjZI",
        "outputId": "380659ae-a6cc-48ad-da13-b627bbd196cb"
      },
      "outputs": [
        {
          "output_type": "stream",
          "name": "stdout",
          "text": [
            "Pagerank Random Walk with No teleportation, with TF-IDF \n",
            "unvisited =  0\n",
            "              precision    recall  f1-score   support\n",
            "\n",
            "           0       0.32      0.53      0.40       285\n",
            "           1       0.44      0.48      0.46       406\n",
            "           2       0.49      0.25      0.33       726\n",
            "           3       0.66      0.58      0.62       379\n",
            "           4       0.12      0.16      0.14       214\n",
            "           5       0.08      0.18      0.11       131\n",
            "           6       0.27      0.23      0.25       344\n",
            "\n",
            "    accuracy                           0.36      2485\n",
            "   macro avg       0.34      0.35      0.33      2485\n",
            "weighted avg       0.41      0.36      0.37      2485\n",
            "\n"
          ]
        },
        {
          "output_type": "execute_result",
          "data": {
            "text/plain": [
              "0.3573440643863179"
            ]
          },
          "metadata": {},
          "execution_count": 18
        }
      ],
      "source": [
        "#pagerank. Without teleportation. WITH TFIDF \n",
        "transition_matrix = transition\n",
        "\n",
        "#perfrom pagerank using our tf_idf based transition matrix\n",
        "#use randon walk without teleporation \n",
        "#get metrics\n",
        "transition_matrix = create_transition_matrix(G)\n",
        "\n",
        "num_samples = 1000  \n",
        "num_walk_steps = 100\n",
        "\n",
        "visiting_freq_label = []\n",
        "for i in range(transition_matrix.shape[0]):\n",
        "  visiting_freq_label.append([0,0,0,0,0,0,0])\n",
        "\n",
        "visiting_freq = [0 for i in range(transition_matrix.shape[0])]\n",
        "\n",
        "\n",
        "for train_node,predicted in zip(train['node'],train['label']):\n",
        "  #print (train_node,predicted)\n",
        "  for i in range(num_samples):\n",
        "      start_point = train_node\n",
        "      end_node = random_walk(G, num_walk_steps, start_point, transition_matrix)\n",
        "      end_node = int(end_node)\n",
        "      visiting_freq_label[end_node][predicted] += 1\n",
        "      visiting_freq[end_node] +=1\n",
        "\n",
        "count = 0 #these many nodes remain unvisited. \n",
        "for vf in visiting_freq:\n",
        "  if vf == 0:\n",
        "    count+=1\n",
        "\n",
        "print(\"Pagerank Random Walk with No teleportation, with TF-IDF \")\n",
        "print('unvisited = ', count)\n",
        "visiting_freq_label = np.asarray(visiting_freq_label)\n",
        "preds = np.argmax(visiting_freq_label,axis = 1)\n",
        "print(classification_report(df['label'], preds))\n",
        "accuracy_score(df['label'], preds)"
      ]
    },
    {
      "cell_type": "code",
      "execution_count": null,
      "metadata": {
        "colab": {
          "base_uri": "https://localhost:8080/"
        },
        "id": "po-lfoxJrJ51",
        "outputId": "791f174e-961f-45f0-ab41-d5a171d46ef5"
      },
      "outputs": [
        {
          "output_type": "stream",
          "name": "stdout",
          "text": [
            "Pagerank Random Walk with teleportation and TF-IDF \n",
            "unvisited =  21\n",
            "              precision    recall  f1-score   support\n",
            "\n",
            "           0       0.67      0.79      0.72       285\n",
            "           1       0.80      0.89      0.84       406\n",
            "           2       0.84      0.58      0.69       726\n",
            "           3       0.79      0.75      0.77       379\n",
            "           4       0.68      0.81      0.74       214\n",
            "           5       0.42      0.82      0.55       131\n",
            "           6       0.65      0.61      0.63       344\n",
            "\n",
            "    accuracy                           0.72      2485\n",
            "   macro avg       0.69      0.75      0.71      2485\n",
            "weighted avg       0.74      0.72      0.72      2485\n",
            "\n"
          ]
        },
        {
          "output_type": "execute_result",
          "data": {
            "text/plain": [
              "0.7175050301810865"
            ]
          },
          "metadata": {},
          "execution_count": 19
        }
      ],
      "source": [
        "#pagerank. WITH teleportation WITH TFIDF\n",
        "transition_matrix = transition\n",
        "\n",
        "#same as above, except use random walk with teleportation \n",
        "#get metrics\n",
        "num_samples = 1000  \n",
        "num_walk_steps = 100\n",
        "\n",
        "visiting_freq_label = []\n",
        "for i in range(transition_matrix.shape[0]):\n",
        "  visiting_freq_label.append([0,0,0,0,0,0,0])\n",
        "\n",
        "visiting_freq = [0 for i in range(transition_matrix.shape[0])]\n",
        "\n",
        "telep_prob = [0.1]\n",
        "\n",
        "for train_node,predicted in zip(train['node'],train['label']):\n",
        "    for tp in telep_prob:\n",
        "  #print (train_node,predicted)\n",
        "        for i in range(num_samples):\n",
        "            start_point = train_node\n",
        "            end_node = random_walk_with_teleportation(G, num_walk_steps, start_point, tp, predicted, transition_matrix)\n",
        "            end_node = int(end_node)\n",
        "            visiting_freq_label[end_node][predicted] += 1\n",
        "            visiting_freq[end_node] +=1\n",
        "\n",
        "count = 0 #these many nodes remain unvisited. \n",
        "for vf in visiting_freq:\n",
        "  if vf ==0:\n",
        "    count+=1\n",
        "\n",
        "print(\"Pagerank Random Walk with teleportation and TF-IDF \")\n",
        "print('unvisited = ', count)\n",
        "visiting_freq_label = np.asarray(visiting_freq_label)\n",
        "preds = np.argmax(visiting_freq_label,axis = 1)\n",
        "print(classification_report(df['label'], preds))\n",
        "accuracy_score(df['label'], preds)"
      ]
    },
    {
      "cell_type": "code",
      "execution_count": null,
      "metadata": {
        "colab": {
          "base_uri": "https://localhost:8080/"
        },
        "id": "QVdtHBj6jMgj",
        "outputId": "1f78e955-fb13-45a2-cd3b-7b77d1973827"
      },
      "outputs": [
        {
          "output_type": "stream",
          "name": "stdout",
          "text": [
            "unvisited =  58\n",
            "              precision    recall  f1-score   support\n",
            "\n",
            "           0       0.61      0.79      0.69       285\n",
            "           1       0.80      0.88      0.84       406\n",
            "           2       0.82      0.58      0.68       726\n",
            "           3       0.80      0.73      0.76       379\n",
            "           4       0.68      0.78      0.73       214\n",
            "           5       0.42      0.79      0.55       131\n",
            "           6       0.65      0.59      0.62       344\n",
            "\n",
            "    accuracy                           0.71      2485\n",
            "   macro avg       0.68      0.74      0.69      2485\n",
            "weighted avg       0.73      0.71      0.71      2485\n",
            "\n"
          ]
        },
        {
          "output_type": "execute_result",
          "data": {
            "text/plain": [
              "0.7058350100603622"
            ]
          },
          "metadata": {},
          "execution_count": 20
        }
      ],
      "source": [
        "#pagerank. WITH teleportation WITH TFIDF\n",
        "transition_matrix = transition\n",
        "\n",
        "#same as above, except use random walk with teleportation \n",
        "#get metrics\n",
        "#pagerank. WITH telportation, without tfidf \n",
        "\n",
        "#repeat above experiment but this time use the teleportation random walk \n",
        "\n",
        "#get metrics\n",
        "\n",
        "#pagerank. NO teleportation, NO tfidf. \n",
        "transition_matrix = create_transition_matrix(G)\n",
        "\n",
        "num_samples = 1000  \n",
        "num_walk_steps = 100\n",
        "\n",
        "visiting_freq_label = []\n",
        "for i in range(transition_matrix.shape[0]):\n",
        "  visiting_freq_label.append([0,0,0,0,0,0,0])\n",
        "\n",
        "visiting_freq = [0 for i in range(transition_matrix.shape[0])]\n",
        "\n",
        "telep_prob = [0.2]\n",
        "\n",
        "for train_node,predicted in zip(train['node'],train['label']):\n",
        "    for tp in telep_prob:\n",
        "  #print (train_node,predicted)\n",
        "        for i in range(num_samples):\n",
        "            start_point = train_node\n",
        "            end_node = random_walk_with_teleportation(G, num_walk_steps, start_point, tp, predicted, transition_matrix)\n",
        "            end_node = int(end_node)\n",
        "            visiting_freq_label[end_node][predicted] += 1\n",
        "            visiting_freq[end_node] +=1\n",
        "\n",
        "count = 0 #these many nodes remain unvisited. \n",
        "for vf in visiting_freq:\n",
        "  if vf ==0:\n",
        "    count+=1\n",
        "print('unvisited = ', count)\n",
        "visiting_freq_label = np.asarray(visiting_freq_label)\n",
        "preds = np.argmax(visiting_freq_label,axis = 1)\n",
        "print(classification_report(df['label'], preds))\n",
        "accuracy_score(df['label'], preds)"
      ]
    }
  ],
  "metadata": {
    "colab": {
      "collapsed_sections": [],
      "name": "cora_pagerank.ipynb",
      "provenance": []
    },
    "kernelspec": {
      "display_name": "Python 3",
      "name": "python3"
    },
    "language_info": {
      "name": "python"
    }
  },
  "nbformat": 4,
  "nbformat_minor": 0
}