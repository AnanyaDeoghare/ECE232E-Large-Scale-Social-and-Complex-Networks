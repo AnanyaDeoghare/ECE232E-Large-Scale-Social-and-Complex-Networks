{
  "nbformat": 4,
  "nbformat_minor": 0,
  "metadata": {
    "colab": {
      "name": "cora_gcn_helper.ipynb",
      "provenance": [],
      "toc_visible": true,
      "collapsed_sections": [
        "no-Wj6y3ItEf",
        "RbYFnh4_IoUY"
      ]
    },
    "kernelspec": {
      "name": "python3",
      "display_name": "Python 3"
    },
    "language_info": {
      "name": "python"
    }
  },
  "cells": [
    {
      "cell_type": "code",
      "execution_count": null,
      "metadata": {
        "colab": {
          "base_uri": "https://localhost:8080/"
        },
        "id": "TgPNVfeaohic",
        "outputId": "5c962a6f-352d-40a1-dd95-ee2221ecd9db"
      },
      "outputs": [
        {
          "output_type": "stream",
          "name": "stdout",
          "text": [
            "Collecting spektral==0.6.0\n",
            "  Downloading spektral-0.6.0-py3-none-any.whl (95 kB)\n",
            "\u001b[K     |████████████████████████████████| 95 kB 1.4 MB/s \n",
            "\u001b[?25hRequirement already satisfied: requests in /usr/local/lib/python3.7/dist-packages (from spektral==0.6.0) (2.23.0)\n",
            "Requirement already satisfied: numpy in /usr/local/lib/python3.7/dist-packages (from spektral==0.6.0) (1.21.6)\n",
            "Requirement already satisfied: pandas in /usr/local/lib/python3.7/dist-packages (from spektral==0.6.0) (1.3.5)\n",
            "Requirement already satisfied: scikit-learn in /usr/local/lib/python3.7/dist-packages (from spektral==0.6.0) (1.0.2)\n",
            "Requirement already satisfied: scipy in /usr/local/lib/python3.7/dist-packages (from spektral==0.6.0) (1.4.1)\n",
            "Requirement already satisfied: lxml in /usr/local/lib/python3.7/dist-packages (from spektral==0.6.0) (4.2.6)\n",
            "Requirement already satisfied: joblib in /usr/local/lib/python3.7/dist-packages (from spektral==0.6.0) (1.1.0)\n",
            "Requirement already satisfied: networkx in /usr/local/lib/python3.7/dist-packages (from spektral==0.6.0) (2.6.3)\n",
            "Requirement already satisfied: tensorflow>=2.1.0 in /usr/local/lib/python3.7/dist-packages (from spektral==0.6.0) (2.8.0)\n",
            "Requirement already satisfied: tensorflow-io-gcs-filesystem>=0.23.1 in /usr/local/lib/python3.7/dist-packages (from tensorflow>=2.1.0->spektral==0.6.0) (0.25.0)\n",
            "Requirement already satisfied: google-pasta>=0.1.1 in /usr/local/lib/python3.7/dist-packages (from tensorflow>=2.1.0->spektral==0.6.0) (0.2.0)\n",
            "Requirement already satisfied: flatbuffers>=1.12 in /usr/local/lib/python3.7/dist-packages (from tensorflow>=2.1.0->spektral==0.6.0) (2.0)\n",
            "Requirement already satisfied: keras-preprocessing>=1.1.1 in /usr/local/lib/python3.7/dist-packages (from tensorflow>=2.1.0->spektral==0.6.0) (1.1.2)\n",
            "Requirement already satisfied: termcolor>=1.1.0 in /usr/local/lib/python3.7/dist-packages (from tensorflow>=2.1.0->spektral==0.6.0) (1.1.0)\n",
            "Requirement already satisfied: grpcio<2.0,>=1.24.3 in /usr/local/lib/python3.7/dist-packages (from tensorflow>=2.1.0->spektral==0.6.0) (1.44.0)\n",
            "Requirement already satisfied: opt-einsum>=2.3.2 in /usr/local/lib/python3.7/dist-packages (from tensorflow>=2.1.0->spektral==0.6.0) (3.3.0)\n",
            "Requirement already satisfied: protobuf>=3.9.2 in /usr/local/lib/python3.7/dist-packages (from tensorflow>=2.1.0->spektral==0.6.0) (3.17.3)\n",
            "Requirement already satisfied: astunparse>=1.6.0 in /usr/local/lib/python3.7/dist-packages (from tensorflow>=2.1.0->spektral==0.6.0) (1.6.3)\n",
            "Requirement already satisfied: tensorboard<2.9,>=2.8 in /usr/local/lib/python3.7/dist-packages (from tensorflow>=2.1.0->spektral==0.6.0) (2.8.0)\n",
            "Requirement already satisfied: six>=1.12.0 in /usr/local/lib/python3.7/dist-packages (from tensorflow>=2.1.0->spektral==0.6.0) (1.15.0)\n",
            "Requirement already satisfied: h5py>=2.9.0 in /usr/local/lib/python3.7/dist-packages (from tensorflow>=2.1.0->spektral==0.6.0) (3.1.0)\n",
            "Requirement already satisfied: keras<2.9,>=2.8.0rc0 in /usr/local/lib/python3.7/dist-packages (from tensorflow>=2.1.0->spektral==0.6.0) (2.8.0)\n",
            "Requirement already satisfied: setuptools in /usr/local/lib/python3.7/dist-packages (from tensorflow>=2.1.0->spektral==0.6.0) (57.4.0)\n",
            "Requirement already satisfied: wrapt>=1.11.0 in /usr/local/lib/python3.7/dist-packages (from tensorflow>=2.1.0->spektral==0.6.0) (1.14.0)\n",
            "Requirement already satisfied: libclang>=9.0.1 in /usr/local/lib/python3.7/dist-packages (from tensorflow>=2.1.0->spektral==0.6.0) (14.0.1)\n",
            "Requirement already satisfied: absl-py>=0.4.0 in /usr/local/lib/python3.7/dist-packages (from tensorflow>=2.1.0->spektral==0.6.0) (1.0.0)\n",
            "Collecting tf-estimator-nightly==2.8.0.dev2021122109\n",
            "  Downloading tf_estimator_nightly-2.8.0.dev2021122109-py2.py3-none-any.whl (462 kB)\n",
            "\u001b[K     |████████████████████████████████| 462 kB 33.9 MB/s \n",
            "\u001b[?25hRequirement already satisfied: typing-extensions>=3.6.6 in /usr/local/lib/python3.7/dist-packages (from tensorflow>=2.1.0->spektral==0.6.0) (4.2.0)\n",
            "Requirement already satisfied: gast>=0.2.1 in /usr/local/lib/python3.7/dist-packages (from tensorflow>=2.1.0->spektral==0.6.0) (0.5.3)\n",
            "Requirement already satisfied: wheel<1.0,>=0.23.0 in /usr/local/lib/python3.7/dist-packages (from astunparse>=1.6.0->tensorflow>=2.1.0->spektral==0.6.0) (0.37.1)\n",
            "Requirement already satisfied: cached-property in /usr/local/lib/python3.7/dist-packages (from h5py>=2.9.0->tensorflow>=2.1.0->spektral==0.6.0) (1.5.2)\n",
            "Requirement already satisfied: tensorboard-data-server<0.7.0,>=0.6.0 in /usr/local/lib/python3.7/dist-packages (from tensorboard<2.9,>=2.8->tensorflow>=2.1.0->spektral==0.6.0) (0.6.1)\n",
            "Requirement already satisfied: werkzeug>=0.11.15 in /usr/local/lib/python3.7/dist-packages (from tensorboard<2.9,>=2.8->tensorflow>=2.1.0->spektral==0.6.0) (1.0.1)\n",
            "Requirement already satisfied: google-auth-oauthlib<0.5,>=0.4.1 in /usr/local/lib/python3.7/dist-packages (from tensorboard<2.9,>=2.8->tensorflow>=2.1.0->spektral==0.6.0) (0.4.6)\n",
            "Requirement already satisfied: google-auth<3,>=1.6.3 in /usr/local/lib/python3.7/dist-packages (from tensorboard<2.9,>=2.8->tensorflow>=2.1.0->spektral==0.6.0) (1.35.0)\n",
            "Requirement already satisfied: tensorboard-plugin-wit>=1.6.0 in /usr/local/lib/python3.7/dist-packages (from tensorboard<2.9,>=2.8->tensorflow>=2.1.0->spektral==0.6.0) (1.8.1)\n",
            "Requirement already satisfied: markdown>=2.6.8 in /usr/local/lib/python3.7/dist-packages (from tensorboard<2.9,>=2.8->tensorflow>=2.1.0->spektral==0.6.0) (3.3.6)\n",
            "Requirement already satisfied: pyasn1-modules>=0.2.1 in /usr/local/lib/python3.7/dist-packages (from google-auth<3,>=1.6.3->tensorboard<2.9,>=2.8->tensorflow>=2.1.0->spektral==0.6.0) (0.2.8)\n",
            "Requirement already satisfied: rsa<5,>=3.1.4 in /usr/local/lib/python3.7/dist-packages (from google-auth<3,>=1.6.3->tensorboard<2.9,>=2.8->tensorflow>=2.1.0->spektral==0.6.0) (4.8)\n",
            "Requirement already satisfied: cachetools<5.0,>=2.0.0 in /usr/local/lib/python3.7/dist-packages (from google-auth<3,>=1.6.3->tensorboard<2.9,>=2.8->tensorflow>=2.1.0->spektral==0.6.0) (4.2.4)\n",
            "Requirement already satisfied: requests-oauthlib>=0.7.0 in /usr/local/lib/python3.7/dist-packages (from google-auth-oauthlib<0.5,>=0.4.1->tensorboard<2.9,>=2.8->tensorflow>=2.1.0->spektral==0.6.0) (1.3.1)\n",
            "Requirement already satisfied: importlib-metadata>=4.4 in /usr/local/lib/python3.7/dist-packages (from markdown>=2.6.8->tensorboard<2.9,>=2.8->tensorflow>=2.1.0->spektral==0.6.0) (4.11.3)\n",
            "Requirement already satisfied: zipp>=0.5 in /usr/local/lib/python3.7/dist-packages (from importlib-metadata>=4.4->markdown>=2.6.8->tensorboard<2.9,>=2.8->tensorflow>=2.1.0->spektral==0.6.0) (3.8.0)\n",
            "Requirement already satisfied: pyasn1<0.5.0,>=0.4.6 in /usr/local/lib/python3.7/dist-packages (from pyasn1-modules>=0.2.1->google-auth<3,>=1.6.3->tensorboard<2.9,>=2.8->tensorflow>=2.1.0->spektral==0.6.0) (0.4.8)\n",
            "Requirement already satisfied: chardet<4,>=3.0.2 in /usr/local/lib/python3.7/dist-packages (from requests->spektral==0.6.0) (3.0.4)\n",
            "Requirement already satisfied: urllib3!=1.25.0,!=1.25.1,<1.26,>=1.21.1 in /usr/local/lib/python3.7/dist-packages (from requests->spektral==0.6.0) (1.24.3)\n",
            "Requirement already satisfied: certifi>=2017.4.17 in /usr/local/lib/python3.7/dist-packages (from requests->spektral==0.6.0) (2021.10.8)\n",
            "Requirement already satisfied: idna<3,>=2.5 in /usr/local/lib/python3.7/dist-packages (from requests->spektral==0.6.0) (2.10)\n",
            "Requirement already satisfied: oauthlib>=3.0.0 in /usr/local/lib/python3.7/dist-packages (from requests-oauthlib>=0.7.0->google-auth-oauthlib<0.5,>=0.4.1->tensorboard<2.9,>=2.8->tensorflow>=2.1.0->spektral==0.6.0) (3.2.0)\n",
            "Requirement already satisfied: pytz>=2017.3 in /usr/local/lib/python3.7/dist-packages (from pandas->spektral==0.6.0) (2022.1)\n",
            "Requirement already satisfied: python-dateutil>=2.7.3 in /usr/local/lib/python3.7/dist-packages (from pandas->spektral==0.6.0) (2.8.2)\n",
            "Requirement already satisfied: threadpoolctl>=2.0.0 in /usr/local/lib/python3.7/dist-packages (from scikit-learn->spektral==0.6.0) (3.1.0)\n",
            "Installing collected packages: tf-estimator-nightly, spektral\n",
            "Successfully installed spektral-0.6.0 tf-estimator-nightly-2.8.0.dev2021122109\n",
            "Collecting Keras==2.4.3\n",
            "  Downloading Keras-2.4.3-py2.py3-none-any.whl (36 kB)\n",
            "Requirement already satisfied: numpy>=1.9.1 in /usr/local/lib/python3.7/dist-packages (from Keras==2.4.3) (1.21.6)\n",
            "Requirement already satisfied: pyyaml in /usr/local/lib/python3.7/dist-packages (from Keras==2.4.3) (3.13)\n",
            "Requirement already satisfied: scipy>=0.14 in /usr/local/lib/python3.7/dist-packages (from Keras==2.4.3) (1.4.1)\n",
            "Requirement already satisfied: h5py in /usr/local/lib/python3.7/dist-packages (from Keras==2.4.3) (3.1.0)\n",
            "Requirement already satisfied: cached-property in /usr/local/lib/python3.7/dist-packages (from h5py->Keras==2.4.3) (1.5.2)\n",
            "Installing collected packages: Keras\n",
            "  Attempting uninstall: Keras\n",
            "    Found existing installation: keras 2.8.0\n",
            "    Uninstalling keras-2.8.0:\n",
            "      Successfully uninstalled keras-2.8.0\n",
            "\u001b[31mERROR: pip's dependency resolver does not currently take into account all the packages that are installed. This behaviour is the source of the following dependency conflicts.\n",
            "tensorflow 2.8.0 requires keras<2.9,>=2.8.0rc0, but you have keras 2.4.3 which is incompatible.\u001b[0m\n",
            "Successfully installed Keras-2.4.3\n",
            "Collecting tensorflow==2.2.0\n",
            "  Downloading tensorflow-2.2.0-cp37-cp37m-manylinux2010_x86_64.whl (516.2 MB)\n",
            "\u001b[K     |████████████████████████████████| 516.2 MB 3.6 kB/s \n",
            "\u001b[?25hRequirement already satisfied: astunparse==1.6.3 in /usr/local/lib/python3.7/dist-packages (from tensorflow==2.2.0) (1.6.3)\n",
            "Requirement already satisfied: numpy<2.0,>=1.16.0 in /usr/local/lib/python3.7/dist-packages (from tensorflow==2.2.0) (1.21.6)\n",
            "Requirement already satisfied: protobuf>=3.8.0 in /usr/local/lib/python3.7/dist-packages (from tensorflow==2.2.0) (3.17.3)\n",
            "Requirement already satisfied: absl-py>=0.7.0 in /usr/local/lib/python3.7/dist-packages (from tensorflow==2.2.0) (1.0.0)\n",
            "Requirement already satisfied: termcolor>=1.1.0 in /usr/local/lib/python3.7/dist-packages (from tensorflow==2.2.0) (1.1.0)\n",
            "Collecting tensorboard<2.3.0,>=2.2.0\n",
            "  Downloading tensorboard-2.2.2-py3-none-any.whl (3.0 MB)\n",
            "\u001b[K     |████████████████████████████████| 3.0 MB 39.7 MB/s \n",
            "\u001b[?25hCollecting tensorflow-estimator<2.3.0,>=2.2.0\n",
            "  Downloading tensorflow_estimator-2.2.0-py2.py3-none-any.whl (454 kB)\n",
            "\u001b[K     |████████████████████████████████| 454 kB 53.5 MB/s \n",
            "\u001b[?25hRequirement already satisfied: scipy==1.4.1 in /usr/local/lib/python3.7/dist-packages (from tensorflow==2.2.0) (1.4.1)\n",
            "Collecting gast==0.3.3\n",
            "  Downloading gast-0.3.3-py2.py3-none-any.whl (9.7 kB)\n",
            "Collecting h5py<2.11.0,>=2.10.0\n",
            "  Downloading h5py-2.10.0-cp37-cp37m-manylinux1_x86_64.whl (2.9 MB)\n",
            "\u001b[K     |████████████████████████████████| 2.9 MB 31.0 MB/s \n",
            "\u001b[?25hRequirement already satisfied: keras-preprocessing>=1.1.0 in /usr/local/lib/python3.7/dist-packages (from tensorflow==2.2.0) (1.1.2)\n",
            "Requirement already satisfied: wrapt>=1.11.1 in /usr/local/lib/python3.7/dist-packages (from tensorflow==2.2.0) (1.14.0)\n",
            "Requirement already satisfied: google-pasta>=0.1.8 in /usr/local/lib/python3.7/dist-packages (from tensorflow==2.2.0) (0.2.0)\n",
            "Requirement already satisfied: six>=1.12.0 in /usr/local/lib/python3.7/dist-packages (from tensorflow==2.2.0) (1.15.0)\n",
            "Requirement already satisfied: wheel>=0.26 in /usr/local/lib/python3.7/dist-packages (from tensorflow==2.2.0) (0.37.1)\n",
            "Requirement already satisfied: opt-einsum>=2.3.2 in /usr/local/lib/python3.7/dist-packages (from tensorflow==2.2.0) (3.3.0)\n",
            "Requirement already satisfied: grpcio>=1.8.6 in /usr/local/lib/python3.7/dist-packages (from tensorflow==2.2.0) (1.44.0)\n",
            "Requirement already satisfied: setuptools>=41.0.0 in /usr/local/lib/python3.7/dist-packages (from tensorboard<2.3.0,>=2.2.0->tensorflow==2.2.0) (57.4.0)\n",
            "Requirement already satisfied: google-auth<2,>=1.6.3 in /usr/local/lib/python3.7/dist-packages (from tensorboard<2.3.0,>=2.2.0->tensorflow==2.2.0) (1.35.0)\n",
            "Requirement already satisfied: requests<3,>=2.21.0 in /usr/local/lib/python3.7/dist-packages (from tensorboard<2.3.0,>=2.2.0->tensorflow==2.2.0) (2.23.0)\n",
            "Requirement already satisfied: google-auth-oauthlib<0.5,>=0.4.1 in /usr/local/lib/python3.7/dist-packages (from tensorboard<2.3.0,>=2.2.0->tensorflow==2.2.0) (0.4.6)\n",
            "Requirement already satisfied: tensorboard-plugin-wit>=1.6.0 in /usr/local/lib/python3.7/dist-packages (from tensorboard<2.3.0,>=2.2.0->tensorflow==2.2.0) (1.8.1)\n",
            "Requirement already satisfied: werkzeug>=0.11.15 in /usr/local/lib/python3.7/dist-packages (from tensorboard<2.3.0,>=2.2.0->tensorflow==2.2.0) (1.0.1)\n",
            "Requirement already satisfied: markdown>=2.6.8 in /usr/local/lib/python3.7/dist-packages (from tensorboard<2.3.0,>=2.2.0->tensorflow==2.2.0) (3.3.6)\n",
            "Requirement already satisfied: rsa<5,>=3.1.4 in /usr/local/lib/python3.7/dist-packages (from google-auth<2,>=1.6.3->tensorboard<2.3.0,>=2.2.0->tensorflow==2.2.0) (4.8)\n",
            "Requirement already satisfied: pyasn1-modules>=0.2.1 in /usr/local/lib/python3.7/dist-packages (from google-auth<2,>=1.6.3->tensorboard<2.3.0,>=2.2.0->tensorflow==2.2.0) (0.2.8)\n",
            "Requirement already satisfied: cachetools<5.0,>=2.0.0 in /usr/local/lib/python3.7/dist-packages (from google-auth<2,>=1.6.3->tensorboard<2.3.0,>=2.2.0->tensorflow==2.2.0) (4.2.4)\n",
            "Requirement already satisfied: requests-oauthlib>=0.7.0 in /usr/local/lib/python3.7/dist-packages (from google-auth-oauthlib<0.5,>=0.4.1->tensorboard<2.3.0,>=2.2.0->tensorflow==2.2.0) (1.3.1)\n",
            "Requirement already satisfied: importlib-metadata>=4.4 in /usr/local/lib/python3.7/dist-packages (from markdown>=2.6.8->tensorboard<2.3.0,>=2.2.0->tensorflow==2.2.0) (4.11.3)\n",
            "Requirement already satisfied: zipp>=0.5 in /usr/local/lib/python3.7/dist-packages (from importlib-metadata>=4.4->markdown>=2.6.8->tensorboard<2.3.0,>=2.2.0->tensorflow==2.2.0) (3.8.0)\n",
            "Requirement already satisfied: typing-extensions>=3.6.4 in /usr/local/lib/python3.7/dist-packages (from importlib-metadata>=4.4->markdown>=2.6.8->tensorboard<2.3.0,>=2.2.0->tensorflow==2.2.0) (4.2.0)\n",
            "Requirement already satisfied: pyasn1<0.5.0,>=0.4.6 in /usr/local/lib/python3.7/dist-packages (from pyasn1-modules>=0.2.1->google-auth<2,>=1.6.3->tensorboard<2.3.0,>=2.2.0->tensorflow==2.2.0) (0.4.8)\n",
            "Requirement already satisfied: idna<3,>=2.5 in /usr/local/lib/python3.7/dist-packages (from requests<3,>=2.21.0->tensorboard<2.3.0,>=2.2.0->tensorflow==2.2.0) (2.10)\n",
            "Requirement already satisfied: certifi>=2017.4.17 in /usr/local/lib/python3.7/dist-packages (from requests<3,>=2.21.0->tensorboard<2.3.0,>=2.2.0->tensorflow==2.2.0) (2021.10.8)\n",
            "Requirement already satisfied: urllib3!=1.25.0,!=1.25.1,<1.26,>=1.21.1 in /usr/local/lib/python3.7/dist-packages (from requests<3,>=2.21.0->tensorboard<2.3.0,>=2.2.0->tensorflow==2.2.0) (1.24.3)\n",
            "Requirement already satisfied: chardet<4,>=3.0.2 in /usr/local/lib/python3.7/dist-packages (from requests<3,>=2.21.0->tensorboard<2.3.0,>=2.2.0->tensorflow==2.2.0) (3.0.4)\n",
            "Requirement already satisfied: oauthlib>=3.0.0 in /usr/local/lib/python3.7/dist-packages (from requests-oauthlib>=0.7.0->google-auth-oauthlib<0.5,>=0.4.1->tensorboard<2.3.0,>=2.2.0->tensorflow==2.2.0) (3.2.0)\n",
            "Installing collected packages: tensorflow-estimator, tensorboard, h5py, gast, tensorflow\n",
            "  Attempting uninstall: tensorflow-estimator\n",
            "    Found existing installation: tensorflow-estimator 2.8.0\n",
            "    Uninstalling tensorflow-estimator-2.8.0:\n",
            "      Successfully uninstalled tensorflow-estimator-2.8.0\n",
            "  Attempting uninstall: tensorboard\n",
            "    Found existing installation: tensorboard 2.8.0\n",
            "    Uninstalling tensorboard-2.8.0:\n",
            "      Successfully uninstalled tensorboard-2.8.0\n",
            "  Attempting uninstall: h5py\n",
            "    Found existing installation: h5py 3.1.0\n",
            "    Uninstalling h5py-3.1.0:\n",
            "      Successfully uninstalled h5py-3.1.0\n",
            "  Attempting uninstall: gast\n",
            "    Found existing installation: gast 0.5.3\n",
            "    Uninstalling gast-0.5.3:\n",
            "      Successfully uninstalled gast-0.5.3\n",
            "  Attempting uninstall: tensorflow\n",
            "    Found existing installation: tensorflow 2.8.0\n",
            "    Uninstalling tensorflow-2.8.0:\n",
            "      Successfully uninstalled tensorflow-2.8.0\n",
            "Successfully installed gast-0.3.3 h5py-2.10.0 tensorboard-2.2.2 tensorflow-2.2.0 tensorflow-estimator-2.2.0\n"
          ]
        }
      ],
      "source": [
        "!pip install spektral==0.6.0 #feel free to use any other library of your choice\n",
        "!pip install Keras==2.4.3\n",
        "!pip install tensorflow==2.2.0"
      ]
    },
    {
      "cell_type": "code",
      "source": [
        "import numpy as np\n",
        "import os\n",
        "import networkx as nx\n",
        "from keras.utils import to_categorical\n",
        "from sklearn.preprocessing import LabelEncoder\n",
        "from sklearn.utils import shuffle\n",
        "from sklearn.metrics import classification_report\n",
        "\n",
        "from spektral.layers import GraphConv\n",
        "\n",
        "from tensorflow.keras.models import Model\n",
        "from tensorflow.keras.layers import Input, Dropout, Dense\n",
        "from tensorflow.keras import Sequential\n",
        "from tensorflow.keras.optimizers import Adam\n",
        "from tensorflow.keras.callbacks import TensorBoard, EarlyStopping\n",
        "import tensorflow as tf\n",
        "from tensorflow.keras.regularizers import l2\n",
        "\n",
        "from collections import Counter\n",
        "from sklearn.manifold import TSNE\n",
        "import matplotlib.pyplot as plt\n",
        "import pandas as pd"
      ],
      "metadata": {
        "id": "NnjzlTjNwr1z"
      },
      "execution_count": null,
      "outputs": []
    },
    {
      "cell_type": "code",
      "source": [
        "import sys\n",
        "runningOnColab = 'google.colab' in sys.modules\n",
        "if runningOnColab:\n",
        "  from google.colab import drive\n",
        "  drive.mount('/content/drive')\n",
        "  %cd '/content/drive/Shareddrives/ECE232E/Project 2'"
      ],
      "metadata": {
        "colab": {
          "base_uri": "https://localhost:8080/"
        },
        "id": "I5RQv8gV-Op9",
        "outputId": "2cf894fa-f69a-400b-84e9-344849a3e60a"
      },
      "execution_count": null,
      "outputs": [
        {
          "output_type": "stream",
          "name": "stdout",
          "text": [
            "Mounted at /content/drive\n",
            "/content/drive/Shareddrives/ECE232E/Project 2\n"
          ]
        }
      ]
    },
    {
      "cell_type": "code",
      "source": [
        "!tar -xvf \"cora.tgz\""
      ],
      "metadata": {
        "colab": {
          "base_uri": "https://localhost:8080/"
        },
        "id": "9Cb8v6km-2qx",
        "outputId": "c6f4fb1b-3fa7-4069-9174-9b6b2a779aa8"
      },
      "execution_count": null,
      "outputs": [
        {
          "output_type": "stream",
          "name": "stdout",
          "text": [
            "cora/\n",
            "cora/README\n",
            "cora/cora.cites\n",
            "cora/cora.content\n"
          ]
        }
      ]
    },
    {
      "cell_type": "code",
      "source": [
        "all_data = []\n",
        "all_edges = []\n",
        "\n",
        "for root,dirs,files in os.walk('./cora'):\n",
        "    for file in files:\n",
        "        if '.content' in file:\n",
        "            with open(os.path.join(root,file),'r') as f:\n",
        "                all_data.extend(f.read().splitlines())\n",
        "        elif 'cites' in file:\n",
        "            with open(os.path.join(root,file),'r') as f:\n",
        "                all_edges.extend(f.read().splitlines())\n",
        "\n",
        "                \n",
        "\n",
        "all_data = shuffle(all_data,random_state=42)"
      ],
      "metadata": {
        "id": "JvvPDsGw_Txq"
      },
      "execution_count": null,
      "outputs": []
    },
    {
      "cell_type": "code",
      "source": [
        "labels = []\n",
        "nodes = []\n",
        "X = []\n",
        "\n",
        "for i,data in enumerate(all_data):\n",
        "    elements = data.split('\\t')\n",
        "    labels.append(elements[-1])\n",
        "    X.append(elements[1:-1])\n",
        "    nodes.append(elements[0])\n",
        "\n",
        "X = np.array(X,dtype=int)\n",
        "N = X.shape[0] \n",
        "F = X.shape[1]\n",
        "print('X shape: ', X.shape)\n",
        "\n",
        "\n",
        "#parse the edge\n",
        "edge_list=[]\n",
        "for edge in all_edges:\n",
        "    e = edge.split('\\t')\n",
        "    edge_list.append((e[0],e[1]))\n",
        "\n",
        "print('\\nNumber of nodes (N): ', N)\n",
        "print('\\nNumber of features (F) of each node: ', F)\n",
        "print('\\nCategories: ', set(labels))\n",
        "\n",
        "num_classes = len(set(labels))\n",
        "print('\\nNumber of classes: ', num_classes)\n"
      ],
      "metadata": {
        "colab": {
          "base_uri": "https://localhost:8080/"
        },
        "id": "lwGXhqJf_llw",
        "outputId": "e11df190-1eab-4bff-d4da-15df3c0192c5"
      },
      "execution_count": null,
      "outputs": [
        {
          "output_type": "stream",
          "name": "stdout",
          "text": [
            "X shape:  (2708, 1433)\n",
            "\n",
            "Number of nodes (N):  2708\n",
            "\n",
            "Number of features (F) of each node:  1433\n",
            "\n",
            "Categories:  {'Rule_Learning', 'Reinforcement_Learning', 'Neural_Networks', 'Probabilistic_Methods', 'Genetic_Algorithms', 'Theory', 'Case_Based'}\n",
            "\n",
            "Number of classes:  7\n"
          ]
        }
      ]
    },
    {
      "cell_type": "code",
      "source": [
        "# Using network x and build a graph "
      ],
      "metadata": {
        "id": "LdYc4oOLHXDA"
      },
      "execution_count": null,
      "outputs": []
    },
    {
      "cell_type": "code",
      "source": [
        "G = nx.Graph()\n",
        "G.add_nodes_from(nodes)\n",
        "G.add_edges_from(edge_list)\n",
        "\n",
        "\n",
        "A = nx.adjacency_matrix(G)\n",
        "print('Graph info: ', nx.info(G))\n",
        "\n",
        "#use gcc if you want. "
      ],
      "metadata": {
        "colab": {
          "base_uri": "https://localhost:8080/"
        },
        "id": "MkZ9Vsy3Hmn4",
        "outputId": "df6f0aef-0e8d-4431-e398-30358dd32974"
      },
      "execution_count": null,
      "outputs": [
        {
          "output_type": "stream",
          "name": "stdout",
          "text": [
            "Graph info:  Graph with 2708 nodes and 5278 edges\n"
          ]
        }
      ]
    },
    {
      "cell_type": "code",
      "source": [
        "# install StellarGraph if running on Google Colab\n",
        "import sys\n",
        "if 'google.colab' in sys.modules:\n",
        "  %pip install -q stellargraph[demos]==1.2.1"
      ],
      "metadata": {
        "colab": {
          "base_uri": "https://localhost:8080/"
        },
        "id": "cHjodMz1I2ly",
        "outputId": "9c715159-f48f-405d-9538-b28181780938"
      },
      "execution_count": null,
      "outputs": [
        {
          "output_type": "stream",
          "name": "stdout",
          "text": [
            "\u001b[K     |████████████████████████████████| 435 kB 5.1 MB/s \n",
            "\u001b[K     |████████████████████████████████| 482 kB 31.8 MB/s \n",
            "\u001b[K     |████████████████████████████████| 41 kB 443 kB/s \n",
            "\u001b[?25h  Building wheel for mplleaflet (setup.py) ... \u001b[?25l\u001b[?25hdone\n"
          ]
        }
      ]
    },
    {
      "cell_type": "code",
      "source": [
        "from stellargraph import StellarGraph \n",
        "from stellargraph import datasets\n",
        "\n",
        "from IPython.display import display, HTML"
      ],
      "metadata": {
        "id": "jkz2XSF2Iudv"
      },
      "execution_count": null,
      "outputs": []
    },
    {
      "cell_type": "code",
      "source": [
        "dataset = datasets.Cora()\n",
        "display(HTML(dataset.description))\n",
        "G, node_subjects = dataset.load()"
      ],
      "metadata": {
        "colab": {
          "base_uri": "https://localhost:8080/",
          "height": 69
        },
        "id": "r9p94U32HtXc",
        "outputId": "f0e27aa1-852e-421d-b539-3d5fcd3021b3"
      },
      "execution_count": null,
      "outputs": [
        {
          "output_type": "display_data",
          "data": {
            "text/plain": [
              "<IPython.core.display.HTML object>"
            ],
            "text/html": [
              "The Cora dataset consists of 2708 scientific publications classified into one of seven classes. The citation network consists of 5429 links. Each publication in the dataset is described by a 0/1-valued word vector indicating the absence/presence of the corresponding word from the dictionary. The dictionary consists of 1433 unique words."
            ]
          },
          "metadata": {}
        }
      ]
    },
    {
      "cell_type": "code",
      "source": [
        "import stellargraph as sg\n",
        "from stellargraph.mapper import FullBatchNodeGenerator\n",
        "from stellargraph.layer import GCN"
      ],
      "metadata": {
        "id": "icwmCXrLI6aR"
      },
      "execution_count": null,
      "outputs": []
    },
    {
      "cell_type": "code",
      "source": [
        "#get 20 train instances per class\n",
        "#remaining instances are in test set test   - stratify used to remove class imbalance, \n",
        "\n",
        "from sklearn import preprocessing, model_selection\n",
        "\n",
        "train_subjects, test_subjects = model_selection.train_test_split(\n",
        "    node_subjects, train_size=140, test_size=None, stratify=node_subjects\n",
        ")\n",
        "val_subjects, test_subjects = model_selection.train_test_split(\n",
        "    test_subjects, train_size=500, test_size=None, stratify=test_subjects\n",
        ")"
      ],
      "metadata": {
        "id": "NA0alvZRItgF"
      },
      "execution_count": null,
      "outputs": []
    },
    {
      "cell_type": "code",
      "source": [
        "# make sure the total is 140 with a balance of the dataset maintained\n",
        "train_subjects.value_counts()"
      ],
      "metadata": {
        "colab": {
          "base_uri": "https://localhost:8080/"
        },
        "id": "9aoUkkXLJRZY",
        "outputId": "c8009c9a-3940-42b3-d667-c9b20ceb1c26"
      },
      "execution_count": null,
      "outputs": [
        {
          "output_type": "execute_result",
          "data": {
            "text/plain": [
              "Neural_Networks           42\n",
              "Probabilistic_Methods     22\n",
              "Genetic_Algorithms        22\n",
              "Theory                    18\n",
              "Case_Based                16\n",
              "Reinforcement_Learning    11\n",
              "Rule_Learning              9\n",
              "Name: subject, dtype: int64"
            ]
          },
          "metadata": {},
          "execution_count": 13
        }
      ]
    },
    {
      "cell_type": "code",
      "source": [
        "# encode the training dataset \n",
        "\n",
        "\n",
        "target_encoding = preprocessing.LabelBinarizer()\n",
        "\n",
        "train_targets = target_encoding.fit_transform(train_subjects)\n",
        "val_targets = target_encoding.transform(val_subjects)\n",
        "test_targets = target_encoding.transform(test_subjects)"
      ],
      "metadata": {
        "id": "6kchHBPwJ0t8"
      },
      "execution_count": null,
      "outputs": []
    },
    {
      "cell_type": "code",
      "source": [
        "\n",
        "generator = FullBatchNodeGenerator(G, method=\"gcn\")"
      ],
      "metadata": {
        "colab": {
          "base_uri": "https://localhost:8080/"
        },
        "id": "zVsCu_liKpIu",
        "outputId": "12df2ec6-b90c-456d-d68f-8e7a9183e194"
      },
      "execution_count": null,
      "outputs": [
        {
          "output_type": "stream",
          "name": "stdout",
          "text": [
            "Using GCN (local pooling) filters...\n"
          ]
        }
      ]
    },
    {
      "cell_type": "code",
      "source": [
        "train_gen = generator.flow(train_subjects.index, train_targets)"
      ],
      "metadata": {
        "id": "e7v9Lmt5K6c6"
      },
      "execution_count": null,
      "outputs": []
    },
    {
      "cell_type": "markdown",
      "source": [
        "## GCN"
      ],
      "metadata": {
        "id": "no-Wj6y3ItEf"
      }
    },
    {
      "cell_type": "code",
      "source": [
        "gcn = GCN(\n",
        "    layer_sizes=[16, 16], activations=[\"relu\", \"relu\"], generator=generator, dropout=0.5\n",
        ")"
      ],
      "metadata": {
        "id": "KnX7eOFdLEjo"
      },
      "execution_count": null,
      "outputs": []
    },
    {
      "cell_type": "code",
      "source": [
        "x_inp, x_out = gcn.in_out_tensors()\n",
        "\n",
        "x_out"
      ],
      "metadata": {
        "colab": {
          "base_uri": "https://localhost:8080/"
        },
        "id": "4WAoe2quLH8M",
        "outputId": "5266b9a0-0dfd-4c92-86d5-ec08e5b78b2f"
      },
      "execution_count": null,
      "outputs": [
        {
          "output_type": "execute_result",
          "data": {
            "text/plain": [
              "<tf.Tensor 'gather_indices_6/Identity:0' shape=(1, None, 16) dtype=float32>"
            ]
          },
          "metadata": {},
          "execution_count": 112
        }
      ]
    },
    {
      "cell_type": "code",
      "source": [
        "predictions = tf.keras.layers.Dense(units=train_targets.shape[1], activation=\"softmax\")(x_out)"
      ],
      "metadata": {
        "id": "S15thEcRLJo7"
      },
      "execution_count": null,
      "outputs": []
    },
    {
      "cell_type": "code",
      "source": [
        "model = Model(inputs=x_inp, outputs=predictions)\n",
        "model.compile(\n",
        "    optimizer=tf.keras.optimizers.Adam(lr=0.01),\n",
        "    loss=tf.keras.losses.categorical_crossentropy,\n",
        "    metrics=[\"acc\"],\n",
        ")"
      ],
      "metadata": {
        "id": "iSxVxBHpPJ5U"
      },
      "execution_count": null,
      "outputs": []
    },
    {
      "cell_type": "code",
      "source": [
        "val_gen = generator.flow(val_subjects.index, val_targets)"
      ],
      "metadata": {
        "id": "yChEOnY9POv2"
      },
      "execution_count": null,
      "outputs": []
    },
    {
      "cell_type": "code",
      "source": [
        "from tensorflow.keras.callbacks import EarlyStopping\n",
        "\n",
        "es_callback = EarlyStopping(monitor=\"val_acc\", patience=50, restore_best_weights=True)"
      ],
      "metadata": {
        "id": "vwLnSKlHPUbE"
      },
      "execution_count": null,
      "outputs": []
    },
    {
      "cell_type": "code",
      "source": [
        "history = model.fit(\n",
        "    train_gen,\n",
        "    epochs=200,\n",
        "    validation_data=val_gen,\n",
        "    verbose=2,\n",
        "    shuffle=False,  # this should be False, since shuffling data means shuffling the whole graph\n",
        "    callbacks=[es_callback],\n",
        ")"
      ],
      "metadata": {
        "colab": {
          "base_uri": "https://localhost:8080/"
        },
        "id": "IODj7MyCPlxe",
        "outputId": "0a5a3d90-83d1-40a4-98cb-d190a39e3741"
      },
      "execution_count": null,
      "outputs": [
        {
          "output_type": "stream",
          "name": "stdout",
          "text": [
            "Epoch 1/200\n",
            "1/1 - 0s - loss: 1.9472 - acc: 0.1786 - val_loss: 1.8978 - val_acc: 0.2200\n",
            "Epoch 2/200\n",
            "1/1 - 0s - loss: 1.8917 - acc: 0.2214 - val_loss: 1.8406 - val_acc: 0.2380\n",
            "Epoch 3/200\n",
            "1/1 - 0s - loss: 1.8142 - acc: 0.2571 - val_loss: 1.7736 - val_acc: 0.2900\n",
            "Epoch 4/200\n",
            "1/1 - 0s - loss: 1.7141 - acc: 0.3214 - val_loss: 1.6986 - val_acc: 0.3520\n",
            "Epoch 5/200\n",
            "1/1 - 0s - loss: 1.6413 - acc: 0.3714 - val_loss: 1.6178 - val_acc: 0.4920\n",
            "Epoch 6/200\n",
            "1/1 - 0s - loss: 1.5574 - acc: 0.4643 - val_loss: 1.5318 - val_acc: 0.5760\n",
            "Epoch 7/200\n",
            "1/1 - 0s - loss: 1.4488 - acc: 0.5357 - val_loss: 1.4468 - val_acc: 0.5600\n",
            "Epoch 8/200\n",
            "1/1 - 0s - loss: 1.3656 - acc: 0.5714 - val_loss: 1.3669 - val_acc: 0.5480\n",
            "Epoch 9/200\n",
            "1/1 - 0s - loss: 1.2507 - acc: 0.5929 - val_loss: 1.2969 - val_acc: 0.5400\n",
            "Epoch 10/200\n",
            "1/1 - 0s - loss: 1.1821 - acc: 0.6000 - val_loss: 1.2336 - val_acc: 0.5500\n",
            "Epoch 11/200\n",
            "1/1 - 0s - loss: 1.0978 - acc: 0.6143 - val_loss: 1.1696 - val_acc: 0.5580\n",
            "Epoch 12/200\n",
            "1/1 - 0s - loss: 0.9448 - acc: 0.6786 - val_loss: 1.1024 - val_acc: 0.5880\n",
            "Epoch 13/200\n",
            "1/1 - 0s - loss: 0.9072 - acc: 0.6786 - val_loss: 1.0366 - val_acc: 0.6240\n",
            "Epoch 14/200\n",
            "1/1 - 0s - loss: 0.8427 - acc: 0.7000 - val_loss: 0.9751 - val_acc: 0.6600\n",
            "Epoch 15/200\n",
            "1/1 - 0s - loss: 0.7452 - acc: 0.7643 - val_loss: 0.9216 - val_acc: 0.6960\n",
            "Epoch 16/200\n",
            "1/1 - 0s - loss: 0.7269 - acc: 0.7571 - val_loss: 0.8800 - val_acc: 0.7160\n",
            "Epoch 17/200\n",
            "1/1 - 0s - loss: 0.5879 - acc: 0.8071 - val_loss: 0.8445 - val_acc: 0.7240\n",
            "Epoch 18/200\n",
            "1/1 - 0s - loss: 0.5757 - acc: 0.8286 - val_loss: 0.8125 - val_acc: 0.7500\n",
            "Epoch 19/200\n",
            "1/1 - 0s - loss: 0.5071 - acc: 0.8714 - val_loss: 0.7880 - val_acc: 0.7520\n",
            "Epoch 20/200\n",
            "1/1 - 0s - loss: 0.4709 - acc: 0.8929 - val_loss: 0.7673 - val_acc: 0.7580\n",
            "Epoch 21/200\n",
            "1/1 - 0s - loss: 0.3971 - acc: 0.9000 - val_loss: 0.7596 - val_acc: 0.7600\n",
            "Epoch 22/200\n",
            "1/1 - 0s - loss: 0.4009 - acc: 0.9071 - val_loss: 0.7545 - val_acc: 0.7620\n",
            "Epoch 23/200\n",
            "1/1 - 0s - loss: 0.3735 - acc: 0.9000 - val_loss: 0.7375 - val_acc: 0.7760\n",
            "Epoch 24/200\n",
            "1/1 - 0s - loss: 0.3065 - acc: 0.9071 - val_loss: 0.7271 - val_acc: 0.7720\n",
            "Epoch 25/200\n",
            "1/1 - 0s - loss: 0.2614 - acc: 0.9429 - val_loss: 0.7147 - val_acc: 0.7760\n",
            "Epoch 26/200\n",
            "1/1 - 0s - loss: 0.2627 - acc: 0.9214 - val_loss: 0.7050 - val_acc: 0.7860\n",
            "Epoch 27/200\n",
            "1/1 - 0s - loss: 0.2493 - acc: 0.9357 - val_loss: 0.7075 - val_acc: 0.7900\n",
            "Epoch 28/200\n",
            "1/1 - 0s - loss: 0.2571 - acc: 0.9357 - val_loss: 0.7060 - val_acc: 0.7920\n",
            "Epoch 29/200\n",
            "1/1 - 0s - loss: 0.2507 - acc: 0.9286 - val_loss: 0.7123 - val_acc: 0.7980\n",
            "Epoch 30/200\n",
            "1/1 - 0s - loss: 0.1834 - acc: 0.9500 - val_loss: 0.7283 - val_acc: 0.7880\n",
            "Epoch 31/200\n",
            "1/1 - 0s - loss: 0.1594 - acc: 0.9500 - val_loss: 0.7503 - val_acc: 0.7820\n",
            "Epoch 32/200\n",
            "1/1 - 0s - loss: 0.1861 - acc: 0.9571 - val_loss: 0.7745 - val_acc: 0.7760\n",
            "Epoch 33/200\n",
            "1/1 - 0s - loss: 0.1552 - acc: 0.9500 - val_loss: 0.8128 - val_acc: 0.7720\n",
            "Epoch 34/200\n",
            "1/1 - 0s - loss: 0.1342 - acc: 0.9643 - val_loss: 0.8529 - val_acc: 0.7680\n",
            "Epoch 35/200\n",
            "1/1 - 0s - loss: 0.1129 - acc: 0.9786 - val_loss: 0.8823 - val_acc: 0.7700\n",
            "Epoch 36/200\n",
            "1/1 - 0s - loss: 0.1038 - acc: 0.9786 - val_loss: 0.8896 - val_acc: 0.7700\n",
            "Epoch 37/200\n",
            "1/1 - 0s - loss: 0.1223 - acc: 0.9571 - val_loss: 0.8693 - val_acc: 0.7660\n",
            "Epoch 38/200\n",
            "1/1 - 1s - loss: 0.1221 - acc: 0.9643 - val_loss: 0.8582 - val_acc: 0.7620\n",
            "Epoch 39/200\n",
            "1/1 - 0s - loss: 0.0789 - acc: 0.9786 - val_loss: 0.8522 - val_acc: 0.7640\n",
            "Epoch 40/200\n",
            "1/1 - 0s - loss: 0.0691 - acc: 0.9857 - val_loss: 0.8522 - val_acc: 0.7740\n",
            "Epoch 41/200\n",
            "1/1 - 0s - loss: 0.1539 - acc: 0.9500 - val_loss: 0.8531 - val_acc: 0.7760\n",
            "Epoch 42/200\n",
            "1/1 - 0s - loss: 0.1270 - acc: 0.9571 - val_loss: 0.8649 - val_acc: 0.7820\n",
            "Epoch 43/200\n",
            "1/1 - 0s - loss: 0.0957 - acc: 0.9714 - val_loss: 0.8913 - val_acc: 0.7840\n",
            "Epoch 44/200\n",
            "1/1 - 0s - loss: 0.0981 - acc: 0.9643 - val_loss: 0.9140 - val_acc: 0.7820\n",
            "Epoch 45/200\n",
            "1/1 - 0s - loss: 0.0691 - acc: 0.9857 - val_loss: 0.9347 - val_acc: 0.7800\n",
            "Epoch 46/200\n",
            "1/1 - 0s - loss: 0.0781 - acc: 0.9786 - val_loss: 0.9437 - val_acc: 0.7800\n",
            "Epoch 47/200\n",
            "1/1 - 0s - loss: 0.0776 - acc: 0.9714 - val_loss: 0.9446 - val_acc: 0.7820\n",
            "Epoch 48/200\n",
            "1/1 - 0s - loss: 0.0636 - acc: 0.9857 - val_loss: 0.9441 - val_acc: 0.7820\n",
            "Epoch 49/200\n",
            "1/1 - 0s - loss: 0.0560 - acc: 0.9857 - val_loss: 0.9442 - val_acc: 0.7860\n",
            "Epoch 50/200\n",
            "1/1 - 0s - loss: 0.0587 - acc: 0.9857 - val_loss: 0.9424 - val_acc: 0.7860\n",
            "Epoch 51/200\n",
            "1/1 - 0s - loss: 0.0923 - acc: 0.9929 - val_loss: 0.9362 - val_acc: 0.7900\n",
            "Epoch 52/200\n",
            "1/1 - 0s - loss: 0.0481 - acc: 0.9929 - val_loss: 0.9349 - val_acc: 0.7860\n",
            "Epoch 53/200\n",
            "1/1 - 0s - loss: 0.0554 - acc: 0.9857 - val_loss: 0.9376 - val_acc: 0.7880\n",
            "Epoch 54/200\n",
            "1/1 - 0s - loss: 0.0553 - acc: 0.9786 - val_loss: 0.9413 - val_acc: 0.7900\n",
            "Epoch 55/200\n",
            "1/1 - 0s - loss: 0.0572 - acc: 0.9786 - val_loss: 0.9451 - val_acc: 0.7900\n",
            "Epoch 56/200\n",
            "1/1 - 0s - loss: 0.0500 - acc: 0.9786 - val_loss: 0.9504 - val_acc: 0.7940\n",
            "Epoch 57/200\n",
            "1/1 - 0s - loss: 0.0644 - acc: 0.9857 - val_loss: 0.9649 - val_acc: 0.7920\n",
            "Epoch 58/200\n",
            "1/1 - 0s - loss: 0.0317 - acc: 1.0000 - val_loss: 0.9777 - val_acc: 0.7920\n",
            "Epoch 59/200\n",
            "1/1 - 0s - loss: 0.0840 - acc: 0.9643 - val_loss: 0.9981 - val_acc: 0.7840\n",
            "Epoch 60/200\n",
            "1/1 - 0s - loss: 0.0677 - acc: 0.9929 - val_loss: 1.0187 - val_acc: 0.7820\n",
            "Epoch 61/200\n",
            "1/1 - 0s - loss: 0.0546 - acc: 0.9714 - val_loss: 1.0515 - val_acc: 0.7820\n",
            "Epoch 62/200\n",
            "1/1 - 0s - loss: 0.0185 - acc: 1.0000 - val_loss: 1.0822 - val_acc: 0.7800\n",
            "Epoch 63/200\n",
            "1/1 - 0s - loss: 0.0508 - acc: 0.9786 - val_loss: 1.1145 - val_acc: 0.7740\n",
            "Epoch 64/200\n",
            "1/1 - 0s - loss: 0.0491 - acc: 0.9929 - val_loss: 1.1325 - val_acc: 0.7680\n",
            "Epoch 65/200\n",
            "1/1 - 0s - loss: 0.0514 - acc: 0.9786 - val_loss: 1.1483 - val_acc: 0.7640\n",
            "Epoch 66/200\n",
            "1/1 - 0s - loss: 0.0379 - acc: 0.9929 - val_loss: 1.1612 - val_acc: 0.7620\n",
            "Epoch 67/200\n",
            "1/1 - 0s - loss: 0.0463 - acc: 0.9929 - val_loss: 1.1700 - val_acc: 0.7580\n",
            "Epoch 68/200\n",
            "1/1 - 0s - loss: 0.0504 - acc: 0.9857 - val_loss: 1.1635 - val_acc: 0.7620\n",
            "Epoch 69/200\n",
            "1/1 - 0s - loss: 0.0504 - acc: 0.9786 - val_loss: 1.1639 - val_acc: 0.7620\n",
            "Epoch 70/200\n",
            "1/1 - 0s - loss: 0.0431 - acc: 0.9786 - val_loss: 1.1703 - val_acc: 0.7660\n",
            "Epoch 71/200\n",
            "1/1 - 0s - loss: 0.0383 - acc: 0.9929 - val_loss: 1.1804 - val_acc: 0.7620\n",
            "Epoch 72/200\n",
            "1/1 - 0s - loss: 0.0184 - acc: 1.0000 - val_loss: 1.1926 - val_acc: 0.7660\n",
            "Epoch 73/200\n",
            "1/1 - 0s - loss: 0.0170 - acc: 1.0000 - val_loss: 1.2050 - val_acc: 0.7680\n",
            "Epoch 74/200\n",
            "1/1 - 0s - loss: 0.0376 - acc: 0.9929 - val_loss: 1.2139 - val_acc: 0.7700\n",
            "Epoch 75/200\n",
            "1/1 - 0s - loss: 0.0363 - acc: 0.9857 - val_loss: 1.2143 - val_acc: 0.7700\n",
            "Epoch 76/200\n",
            "1/1 - 0s - loss: 0.0555 - acc: 0.9786 - val_loss: 1.2154 - val_acc: 0.7720\n",
            "Epoch 77/200\n",
            "1/1 - 0s - loss: 0.0410 - acc: 0.9929 - val_loss: 1.2140 - val_acc: 0.7700\n",
            "Epoch 78/200\n",
            "1/1 - 0s - loss: 0.0640 - acc: 0.9786 - val_loss: 1.2071 - val_acc: 0.7680\n",
            "Epoch 79/200\n",
            "1/1 - 0s - loss: 0.0361 - acc: 0.9857 - val_loss: 1.1989 - val_acc: 0.7680\n"
          ]
        }
      ]
    },
    {
      "cell_type": "code",
      "source": [
        "sg.utils.plot_history(history)"
      ],
      "metadata": {
        "colab": {
          "base_uri": "https://localhost:8080/",
          "height": 585
        },
        "id": "MShXBr8YQrOI",
        "outputId": "1710d49b-3775-434c-e9c9-ad4c5efe0a2d"
      },
      "execution_count": null,
      "outputs": [
        {
          "output_type": "display_data",
          "data": {
            "text/plain": [
              "<Figure size 504x576 with 2 Axes>"
            ],
            "image/png": "[encoded data removed]"
          },
          "metadata": {
            "needs_background": "light"
          }
        }
      ]
    },
    {
      "cell_type": "code",
      "source": [
        "test_gen = generator.flow(test_subjects.index, test_targets)"
      ],
      "metadata": {
        "id": "jnrWOiPZQv-I"
      },
      "execution_count": null,
      "outputs": []
    },
    {
      "cell_type": "code",
      "source": [
        "test_metrics = model.evaluate(test_gen)\n",
        "print(\"\\nTest Set Metrics:\")\n",
        "for name, val in zip(model.metrics_names, test_metrics):\n",
        "    print(\"\\t{}: {:0.4f}\".format(name, val))"
      ],
      "metadata": {
        "colab": {
          "base_uri": "https://localhost:8080/"
        },
        "id": "DIuEr5F6QzjG",
        "outputId": "e4c8498b-f35c-411d-ebf1-cfa3c6fa41a0"
      },
      "execution_count": null,
      "outputs": [
        {
          "output_type": "stream",
          "name": "stdout",
          "text": [
            "1/1 [==============================] - 0s 3ms/step - loss: 0.6661 - acc: 0.7790\n",
            "\n",
            "Test Set Metrics:\n",
            "\tloss: 0.6661\n",
            "\tacc: 0.7790\n"
          ]
        }
      ]
    },
    {
      "cell_type": "code",
      "source": [
        "all_nodes = node_subjects.index\n",
        "all_gen = generator.flow(all_nodes)\n",
        "all_predictions = model.predict(all_gen)"
      ],
      "metadata": {
        "id": "z7oErJR9Q6Lt"
      },
      "execution_count": null,
      "outputs": []
    },
    {
      "cell_type": "code",
      "source": [
        "node_predictions = target_encoding.inverse_transform(all_predictions.squeeze())"
      ],
      "metadata": {
        "id": "hnHdglRUHux8"
      },
      "execution_count": null,
      "outputs": []
    },
    {
      "cell_type": "code",
      "source": [
        "\n"
      ],
      "metadata": {
        "id": "APjtIa42HwXf"
      },
      "execution_count": null,
      "outputs": []
    },
    {
      "cell_type": "code",
      "source": [
        "df = pd.DataFrame({\"Predicted\": node_predictions, \"True\": node_subjects})\n",
        "df.head(20)"
      ],
      "metadata": {
        "colab": {
          "base_uri": "https://localhost:8080/",
          "height": 676
        },
        "id": "wRt-qiboHxq8",
        "outputId": "87a61e69-ae6b-4809-9404-8e490746f820"
      },
      "execution_count": null,
      "outputs": [
        {
          "output_type": "execute_result",
          "data": {
            "text/plain": [
              "                      Predicted                    True\n",
              "31336           Neural_Networks         Neural_Networks\n",
              "1061127                  Theory           Rule_Learning\n",
              "1106406  Reinforcement_Learning  Reinforcement_Learning\n",
              "13195    Reinforcement_Learning  Reinforcement_Learning\n",
              "37879     Probabilistic_Methods   Probabilistic_Methods\n",
              "1126012   Probabilistic_Methods   Probabilistic_Methods\n",
              "1107140  Reinforcement_Learning                  Theory\n",
              "1102850         Neural_Networks         Neural_Networks\n",
              "31349           Neural_Networks         Neural_Networks\n",
              "1106418                  Theory                  Theory\n",
              "1123188         Neural_Networks         Neural_Networks\n",
              "1128990              Case_Based      Genetic_Algorithms\n",
              "109323    Probabilistic_Methods   Probabilistic_Methods\n",
              "217139               Case_Based              Case_Based\n",
              "31353           Neural_Networks         Neural_Networks\n",
              "32083           Neural_Networks         Neural_Networks\n",
              "1126029  Reinforcement_Learning  Reinforcement_Learning\n",
              "1118017         Neural_Networks         Neural_Networks\n",
              "49482           Neural_Networks         Neural_Networks\n",
              "753265                   Theory         Neural_Networks"
            ],
            "text/html": [
              "\n",
              "  <div id=\"df-48763f08-1ec6-49e2-bbaa-68571b755186\">\n",
              "    <div class=\"colab-df-container\">\n",
              "      <div>\n",
              "<style scoped>\n",
              "    .dataframe tbody tr th:only-of-type {\n",
              "        vertical-align: middle;\n",
              "    }\n",
              "\n",
              "    .dataframe tbody tr th {\n",
              "        vertical-align: top;\n",
              "    }\n",
              "\n",
              "    .dataframe thead th {\n",
              "        text-align: right;\n",
              "    }\n",
              "</style>\n",
              "<table border=\"1\" class=\"dataframe\">\n",
              "  <thead>\n",
              "    <tr style=\"text-align: right;\">\n",
              "      <th></th>\n",
              "      <th>Predicted</th>\n",
              "      <th>True</th>\n",
              "    </tr>\n",
              "  </thead>\n",
              "  <tbody>\n",
              "    <tr>\n",
              "      <th>31336</th>\n",
              "      <td>Neural_Networks</td>\n",
              "      <td>Neural_Networks</td>\n",
              "    </tr>\n",
              "    <tr>\n",
              "      <th>1061127</th>\n",
              "      <td>Theory</td>\n",
              "      <td>Rule_Learning</td>\n",
              "    </tr>\n",
              "    <tr>\n",
              "      <th>1106406</th>\n",
              "      <td>Reinforcement_Learning</td>\n",
              "      <td>Reinforcement_Learning</td>\n",
              "    </tr>\n",
              "    <tr>\n",
              "      <th>13195</th>\n",
              "      <td>Reinforcement_Learning</td>\n",
              "      <td>Reinforcement_Learning</td>\n",
              "    </tr>\n",
              "    <tr>\n",
              "      <th>37879</th>\n",
              "      <td>Probabilistic_Methods</td>\n",
              "      <td>Probabilistic_Methods</td>\n",
              "    </tr>\n",
              "    <tr>\n",
              "      <th>1126012</th>\n",
              "      <td>Probabilistic_Methods</td>\n",
              "      <td>Probabilistic_Methods</td>\n",
              "    </tr>\n",
              "    <tr>\n",
              "      <th>1107140</th>\n",
              "      <td>Reinforcement_Learning</td>\n",
              "      <td>Theory</td>\n",
              "    </tr>\n",
              "    <tr>\n",
              "      <th>1102850</th>\n",
              "      <td>Neural_Networks</td>\n",
              "      <td>Neural_Networks</td>\n",
              "    </tr>\n",
              "    <tr>\n",
              "      <th>31349</th>\n",
              "      <td>Neural_Networks</td>\n",
              "      <td>Neural_Networks</td>\n",
              "    </tr>\n",
              "    <tr>\n",
              "      <th>1106418</th>\n",
              "      <td>Theory</td>\n",
              "      <td>Theory</td>\n",
              "    </tr>\n",
              "    <tr>\n",
              "      <th>1123188</th>\n",
              "      <td>Neural_Networks</td>\n",
              "      <td>Neural_Networks</td>\n",
              "    </tr>\n",
              "    <tr>\n",
              "      <th>1128990</th>\n",
              "      <td>Case_Based</td>\n",
              "      <td>Genetic_Algorithms</td>\n",
              "    </tr>\n",
              "    <tr>\n",
              "      <th>109323</th>\n",
              "      <td>Probabilistic_Methods</td>\n",
              "      <td>Probabilistic_Methods</td>\n",
              "    </tr>\n",
              "    <tr>\n",
              "      <th>217139</th>\n",
              "      <td>Case_Based</td>\n",
              "      <td>Case_Based</td>\n",
              "    </tr>\n",
              "    <tr>\n",
              "      <th>31353</th>\n",
              "      <td>Neural_Networks</td>\n",
              "      <td>Neural_Networks</td>\n",
              "    </tr>\n",
              "    <tr>\n",
              "      <th>32083</th>\n",
              "      <td>Neural_Networks</td>\n",
              "      <td>Neural_Networks</td>\n",
              "    </tr>\n",
              "    <tr>\n",
              "      <th>1126029</th>\n",
              "      <td>Reinforcement_Learning</td>\n",
              "      <td>Reinforcement_Learning</td>\n",
              "    </tr>\n",
              "    <tr>\n",
              "      <th>1118017</th>\n",
              "      <td>Neural_Networks</td>\n",
              "      <td>Neural_Networks</td>\n",
              "    </tr>\n",
              "    <tr>\n",
              "      <th>49482</th>\n",
              "      <td>Neural_Networks</td>\n",
              "      <td>Neural_Networks</td>\n",
              "    </tr>\n",
              "    <tr>\n",
              "      <th>753265</th>\n",
              "      <td>Theory</td>\n",
              "      <td>Neural_Networks</td>\n",
              "    </tr>\n",
              "  </tbody>\n",
              "</table>\n",
              "</div>\n",
              "      <button class=\"colab-df-convert\" onclick=\"convertToInteractive('df-48763f08-1ec6-49e2-bbaa-68571b755186')\"\n",
              "              title=\"Convert this dataframe to an interactive table.\"\n",
              "              style=\"display:none;\">\n",
              "        \n",
              "  <svg xmlns=\"http://www.w3.org/2000/svg\" height=\"24px\"viewBox=\"0 0 24 24\"\n",
              "       width=\"24px\">\n",
              "    <path d=\"M0 0h24v24H0V0z\" fill=\"none\"/>\n",
              "    <path d=\"M18.56 5.44l.94 2.06.94-2.06 2.06-.94-2.06-.94-.94-2.06-.94 2.06-2.06.94zm-11 1L8.5 8.5l.94-2.06 2.06-.94-2.06-.94L8.5 2.5l-.94 2.06-2.06.94zm10 10l.94 2.06.94-2.06 2.06-.94-2.06-.94-.94-2.06-.94 2.06-2.06.94z\"/><path d=\"M17.41 7.96l-1.37-1.37c-.4-.4-.92-.59-1.43-.59-.52 0-1.04.2-1.43.59L10.3 9.45l-7.72 7.72c-.78.78-.78 2.05 0 2.83L4 21.41c.39.39.9.59 1.41.59.51 0 1.02-.2 1.41-.59l7.78-7.78 2.81-2.81c.8-.78.8-2.07 0-2.86zM5.41 20L4 18.59l7.72-7.72 1.47 1.35L5.41 20z\"/>\n",
              "  </svg>\n",
              "      </button>\n",
              "      \n",
              "  <style>\n",
              "    .colab-df-container {\n",
              "      display:flex;\n",
              "      flex-wrap:wrap;\n",
              "      gap: 12px;\n",
              "    }\n",
              "\n",
              "    .colab-df-convert {\n",
              "      background-color: #E8F0FE;\n",
              "      border: none;\n",
              "      border-radius: 50%;\n",
              "      cursor: pointer;\n",
              "      display: none;\n",
              "      fill: #1967D2;\n",
              "      height: 32px;\n",
              "      padding: 0 0 0 0;\n",
              "      width: 32px;\n",
              "    }\n",
              "\n",
              "    .colab-df-convert:hover {\n",
              "      background-color: #E2EBFA;\n",
              "      box-shadow: 0px 1px 2px rgba(60, 64, 67, 0.3), 0px 1px 3px 1px rgba(60, 64, 67, 0.15);\n",
              "      fill: #174EA6;\n",
              "    }\n",
              "\n",
              "    [theme=dark] .colab-df-convert {\n",
              "      background-color: #3B4455;\n",
              "      fill: #D2E3FC;\n",
              "    }\n",
              "\n",
              "    [theme=dark] .colab-df-convert:hover {\n",
              "      background-color: #434B5C;\n",
              "      box-shadow: 0px 1px 3px 1px rgba(0, 0, 0, 0.15);\n",
              "      filter: drop-shadow(0px 1px 2px rgba(0, 0, 0, 0.3));\n",
              "      fill: #FFFFFF;\n",
              "    }\n",
              "  </style>\n",
              "\n",
              "      <script>\n",
              "        const buttonEl =\n",
              "          document.querySelector('#df-48763f08-1ec6-49e2-bbaa-68571b755186 button.colab-df-convert');\n",
              "        buttonEl.style.display =\n",
              "          google.colab.kernel.accessAllowed ? 'block' : 'none';\n",
              "\n",
              "        async function convertToInteractive(key) {\n",
              "          const element = document.querySelector('#df-48763f08-1ec6-49e2-bbaa-68571b755186');\n",
              "          const dataTable =\n",
              "            await google.colab.kernel.invokeFunction('convertToInteractive',\n",
              "                                                     [key], {});\n",
              "          if (!dataTable) return;\n",
              "\n",
              "          const docLinkHtml = 'Like what you see? Visit the ' +\n",
              "            '<a target=\"_blank\" href=https://colab.research.google.com/notebooks/data_table.ipynb>data table notebook</a>'\n",
              "            + ' to learn more about interactive tables.';\n",
              "          element.innerHTML = '';\n",
              "          dataTable['output_type'] = 'display_data';\n",
              "          await google.colab.output.renderOutput(dataTable, element);\n",
              "          const docLink = document.createElement('div');\n",
              "          docLink.innerHTML = docLinkHtml;\n",
              "          element.appendChild(docLink);\n",
              "        }\n",
              "      </script>\n",
              "    </div>\n",
              "  </div>\n",
              "  "
            ]
          },
          "metadata": {},
          "execution_count": 124
        }
      ]
    },
    {
      "cell_type": "code",
      "source": [
        "embedding_model = Model(inputs=x_inp, outputs=x_out)\n",
        "emb = embedding_model.predict(all_gen)\n",
        "emb.shape\n",
        "\n",
        "from sklearn.decomposition import PCA\n",
        "from sklearn.manifold import TSNE\n",
        "\n",
        "transform = TSNE  # or PCA\n",
        "\n",
        "X = emb.squeeze(0)\n",
        "X.shape\n",
        "\n",
        "trans = transform(n_components=2)\n",
        "X_reduced = trans.fit_transform(X)\n",
        "X_reduced.shape\n",
        "\n",
        "fig, ax = plt.subplots(figsize=(7, 7))\n",
        "ax.scatter(\n",
        "    X_reduced[:, 0],\n",
        "    X_reduced[:, 1],\n",
        "    c=node_subjects.astype(\"category\").cat.codes,\n",
        "    cmap=\"jet\",\n",
        "    alpha=0.7,\n",
        ")\n",
        "ax.set(\n",
        "    aspect=\"equal\",\n",
        "    xlabel=\"$X_1$\",\n",
        "    ylabel=\"$X_2$\",\n",
        "    title=f\"{transform.__name__} visualization of GCN embeddings for cora dataset\",\n",
        ")"
      ],
      "metadata": {
        "colab": {
          "base_uri": "https://localhost:8080/",
          "height": 625
        },
        "id": "WMUaSgWLHyyC",
        "outputId": "018bf43e-c6b0-4584-ccbd-403361a7ded6"
      },
      "execution_count": null,
      "outputs": [
        {
          "output_type": "stream",
          "name": "stderr",
          "text": [
            "/usr/local/lib/python3.7/dist-packages/sklearn/manifold/_t_sne.py:783: FutureWarning: The default initialization in TSNE will change from 'random' to 'pca' in 1.2.\n",
            "  FutureWarning,\n",
            "/usr/local/lib/python3.7/dist-packages/sklearn/manifold/_t_sne.py:793: FutureWarning: The default learning rate in TSNE will change from 200.0 to 'auto' in 1.2.\n",
            "  FutureWarning,\n"
          ]
        },
        {
          "output_type": "execute_result",
          "data": {
            "text/plain": [
              "[Text(0, 0.5, '$X_2$'),\n",
              " Text(0.5, 0, '$X_1$'),\n",
              " Text(0.5, 1.0, 'TSNE visualization of GCN embeddings for cora dataset'),\n",
              " None]"
            ]
          },
          "metadata": {},
          "execution_count": 125
        },
        {
          "output_type": "display_data",
          "data": {
            "text/plain": [
              "<Figure size 504x504 with 1 Axes>"
            ],
            "image/png": "[encoded data removed]"
          },
          "metadata": {
            "needs_background": "light"
          }
        }
      ]
    },
    {
      "cell_type": "markdown",
      "source": [
        "## Adding more layers to the network "
      ],
      "metadata": {
        "id": "RbYFnh4_IoUY"
      }
    },
    {
      "cell_type": "code",
      "source": [
        ""
      ],
      "metadata": {
        "id": "4raJ_yE7IrEx"
      },
      "execution_count": null,
      "outputs": []
    },
    {
      "cell_type": "code",
      "source": [
        "\n",
        "generator = FullBatchNodeGenerator(G, method=\"gcn\")"
      ],
      "metadata": {
        "colab": {
          "base_uri": "https://localhost:8080/"
        },
        "outputId": "97ec54ff-7bf1-4022-da35-12b1304c4183",
        "id": "ZD4qef2WIvXo"
      },
      "execution_count": null,
      "outputs": [
        {
          "output_type": "stream",
          "name": "stdout",
          "text": [
            "Using GCN (local pooling) filters...\n"
          ]
        }
      ]
    },
    {
      "cell_type": "code",
      "source": [
        "train_gen = generator.flow(train_subjects.index, train_targets)"
      ],
      "metadata": {
        "id": "mybnV7_5IvXp"
      },
      "execution_count": null,
      "outputs": []
    },
    {
      "cell_type": "code",
      "source": [
        "gcn = GCN(\n",
        "    layer_sizes=[32, 64], activations=[\"relu\", \"relu\"], generator=generator, dropout=0.5\n",
        ")"
      ],
      "metadata": {
        "id": "qdlpiWtqIvXp"
      },
      "execution_count": null,
      "outputs": []
    },
    {
      "cell_type": "code",
      "source": [
        "x_inp, x_out = gcn.in_out_tensors()\n",
        "\n",
        "x_out"
      ],
      "metadata": {
        "colab": {
          "base_uri": "https://localhost:8080/"
        },
        "outputId": "52cb4554-32df-4f9b-eb3c-c96f8cd408af",
        "id": "vp8V2HexIvXp"
      },
      "execution_count": null,
      "outputs": [
        {
          "output_type": "execute_result",
          "data": {
            "text/plain": [
              "<tf.Tensor 'gather_indices_10/Identity:0' shape=(1, None, 64) dtype=float32>"
            ]
          },
          "metadata": {},
          "execution_count": 178
        }
      ]
    },
    {
      "cell_type": "code",
      "source": [
        "layer_1= tf.keras.layers.Dense(units=30, activation=\"relu\")(x_out)\n",
        "# layer_2= tf.keras.layers.Dense(units=30, activation=\"relu\")(layer_1)\n",
        "layer_3= Dropout(0.4)(layer_1)\n",
        "predictions = tf.keras.layers.Dense(units=train_targets.shape[1], activation=\"softmax\")(layer_3)\n"
      ],
      "metadata": {
        "id": "VpEyPtKkIvXp"
      },
      "execution_count": null,
      "outputs": []
    },
    {
      "cell_type": "code",
      "source": [
        "model = Model(inputs=x_inp, outputs=predictions)\n",
        "model.compile(\n",
        "    optimizer=tf.keras.optimizers.Adam(lr=0.01),\n",
        "    loss=tf.keras.losses.categorical_crossentropy,\n",
        "    metrics=[\"acc\"],\n",
        ")\n",
        "model.summary()"
      ],
      "metadata": {
        "colab": {
          "base_uri": "https://localhost:8080/"
        },
        "id": "uvs6jsE9IvXp",
        "outputId": "8eeec7dd-4c08-4123-dd57-70778e27afba"
      },
      "execution_count": null,
      "outputs": [
        {
          "output_type": "stream",
          "name": "stdout",
          "text": [
            "Model: \"model_19\"\n",
            "__________________________________________________________________________________________________\n",
            "Layer (type)                    Output Shape         Param #     Connected to                     \n",
            "==================================================================================================\n",
            "input_41 (InputLayer)           [(1, 2708, 1433)]    0                                            \n",
            "__________________________________________________________________________________________________\n",
            "input_43 (InputLayer)           [(1, None, 2)]       0                                            \n",
            "__________________________________________________________________________________________________\n",
            "input_44 (InputLayer)           [(1, None)]          0                                            \n",
            "__________________________________________________________________________________________________\n",
            "dropout_31 (Dropout)            (1, 2708, 1433)      0           input_41[0][0]                   \n",
            "__________________________________________________________________________________________________\n",
            "squeezed_sparse_conversion_10 ( (2708, 2708)         0           input_43[0][0]                   \n",
            "                                                                 input_44[0][0]                   \n",
            "__________________________________________________________________________________________________\n",
            "graph_convolution_20 (GraphConv (1, 2708, 32)        45888       dropout_31[0][0]                 \n",
            "                                                                 squeezed_sparse_conversion_10[0][\n",
            "__________________________________________________________________________________________________\n",
            "dropout_32 (Dropout)            (1, 2708, 32)        0           graph_convolution_20[0][0]       \n",
            "__________________________________________________________________________________________________\n",
            "graph_convolution_21 (GraphConv (1, 2708, 64)        2112        dropout_32[0][0]                 \n",
            "                                                                 squeezed_sparse_conversion_10[0][\n",
            "__________________________________________________________________________________________________\n",
            "input_42 (InputLayer)           [(1, None)]          0                                            \n",
            "__________________________________________________________________________________________________\n",
            "gather_indices_10 (GatherIndice (1, None, 64)        0           graph_convolution_21[0][0]       \n",
            "                                                                 input_42[0][0]                   \n",
            "__________________________________________________________________________________________________\n",
            "dense_37 (Dense)                (1, None, 30)        1950        gather_indices_10[0][0]          \n",
            "__________________________________________________________________________________________________\n",
            "dropout_33 (Dropout)            (1, None, 30)        0           dense_37[0][0]                   \n",
            "__________________________________________________________________________________________________\n",
            "dense_38 (Dense)                (1, None, 7)         217         dropout_33[0][0]                 \n",
            "==================================================================================================\n",
            "Total params: 50,167\n",
            "Trainable params: 50,167\n",
            "Non-trainable params: 0\n",
            "__________________________________________________________________________________________________\n"
          ]
        }
      ]
    },
    {
      "cell_type": "code",
      "source": [
        "val_gen = generator.flow(val_subjects.index, val_targets)"
      ],
      "metadata": {
        "id": "L9eJDRcEIvXq"
      },
      "execution_count": null,
      "outputs": []
    },
    {
      "cell_type": "code",
      "source": [
        "from tensorflow.keras.callbacks import EarlyStopping\n",
        "\n",
        "es_callback = EarlyStopping(monitor=\"val_acc\", patience=50, restore_best_weights=True)"
      ],
      "metadata": {
        "id": "8jUuy4kAIvXq"
      },
      "execution_count": null,
      "outputs": []
    },
    {
      "cell_type": "code",
      "source": [
        "history = model.fit(\n",
        "    train_gen,\n",
        "    epochs=200,\n",
        "    validation_data=val_gen,\n",
        "    verbose=2,\n",
        "    shuffle=False,  # this should be False, since shuffling data means shuffling the whole graph\n",
        "    callbacks=[es_callback],\n",
        ")\n"
      ],
      "metadata": {
        "colab": {
          "base_uri": "https://localhost:8080/"
        },
        "outputId": "e9787041-26af-435f-9e9b-aa7a9aba1d4a",
        "id": "UBNwWCpLIvXq"
      },
      "execution_count": null,
      "outputs": [
        {
          "output_type": "stream",
          "name": "stdout",
          "text": [
            "Epoch 1/200\n",
            "1/1 - 0s - loss: 1.9427 - acc: 0.1643 - val_loss: 1.8971 - val_acc: 0.3020\n",
            "Epoch 2/200\n",
            "1/1 - 0s - loss: 1.8831 - acc: 0.3071 - val_loss: 1.8275 - val_acc: 0.3020\n",
            "Epoch 3/200\n",
            "1/1 - 0s - loss: 1.8158 - acc: 0.2857 - val_loss: 1.7500 - val_acc: 0.3020\n",
            "Epoch 4/200\n",
            "1/1 - 0s - loss: 1.7326 - acc: 0.3286 - val_loss: 1.6617 - val_acc: 0.3040\n",
            "Epoch 5/200\n",
            "1/1 - 0s - loss: 1.5941 - acc: 0.3571 - val_loss: 1.5606 - val_acc: 0.3700\n",
            "Epoch 6/200\n",
            "1/1 - 0s - loss: 1.4988 - acc: 0.4214 - val_loss: 1.4574 - val_acc: 0.4500\n",
            "Epoch 7/200\n",
            "1/1 - 0s - loss: 1.3556 - acc: 0.5143 - val_loss: 1.3702 - val_acc: 0.4920\n",
            "Epoch 8/200\n",
            "1/1 - 0s - loss: 1.2343 - acc: 0.5357 - val_loss: 1.2972 - val_acc: 0.5680\n",
            "Epoch 9/200\n",
            "1/1 - 0s - loss: 1.1377 - acc: 0.5500 - val_loss: 1.2428 - val_acc: 0.6540\n",
            "Epoch 10/200\n",
            "1/1 - 0s - loss: 1.0264 - acc: 0.6357 - val_loss: 1.2053 - val_acc: 0.7040\n",
            "Epoch 11/200\n",
            "1/1 - 0s - loss: 0.9033 - acc: 0.7286 - val_loss: 1.1487 - val_acc: 0.7340\n",
            "Epoch 12/200\n",
            "1/1 - 0s - loss: 0.8555 - acc: 0.7429 - val_loss: 1.0858 - val_acc: 0.7600\n",
            "Epoch 13/200\n",
            "1/1 - 0s - loss: 0.6402 - acc: 0.8143 - val_loss: 1.0346 - val_acc: 0.7640\n",
            "Epoch 14/200\n",
            "1/1 - 0s - loss: 0.6074 - acc: 0.8286 - val_loss: 0.9746 - val_acc: 0.7780\n",
            "Epoch 15/200\n",
            "1/1 - 0s - loss: 0.4470 - acc: 0.8786 - val_loss: 0.9327 - val_acc: 0.7800\n",
            "Epoch 16/200\n",
            "1/1 - 0s - loss: 0.4748 - acc: 0.8571 - val_loss: 0.9199 - val_acc: 0.7860\n",
            "Epoch 17/200\n",
            "1/1 - 0s - loss: 0.3770 - acc: 0.8929 - val_loss: 0.9158 - val_acc: 0.7940\n",
            "Epoch 18/200\n",
            "1/1 - 0s - loss: 0.3570 - acc: 0.9357 - val_loss: 0.9263 - val_acc: 0.7960\n",
            "Epoch 19/200\n",
            "1/1 - 0s - loss: 0.3154 - acc: 0.9071 - val_loss: 0.9434 - val_acc: 0.7960\n",
            "Epoch 20/200\n",
            "1/1 - 0s - loss: 0.2031 - acc: 0.9429 - val_loss: 1.0243 - val_acc: 0.7940\n",
            "Epoch 21/200\n",
            "1/1 - 0s - loss: 0.2863 - acc: 0.9286 - val_loss: 1.0894 - val_acc: 0.7860\n",
            "Epoch 22/200\n",
            "1/1 - 0s - loss: 0.1665 - acc: 0.9643 - val_loss: 1.1203 - val_acc: 0.7920\n",
            "Epoch 23/200\n",
            "1/1 - 0s - loss: 0.2899 - acc: 0.9143 - val_loss: 1.1183 - val_acc: 0.7840\n",
            "Epoch 24/200\n",
            "1/1 - 0s - loss: 0.1508 - acc: 0.9500 - val_loss: 1.1354 - val_acc: 0.7760\n",
            "Epoch 25/200\n",
            "1/1 - 0s - loss: 0.1694 - acc: 0.9571 - val_loss: 1.1386 - val_acc: 0.7800\n",
            "Epoch 26/200\n",
            "1/1 - 0s - loss: 0.1677 - acc: 0.9357 - val_loss: 1.1351 - val_acc: 0.7840\n",
            "Epoch 27/200\n",
            "1/1 - 0s - loss: 0.2339 - acc: 0.9429 - val_loss: 1.1672 - val_acc: 0.7900\n",
            "Epoch 28/200\n",
            "1/1 - 0s - loss: 0.0929 - acc: 0.9714 - val_loss: 1.2143 - val_acc: 0.8000\n",
            "Epoch 29/200\n",
            "1/1 - 0s - loss: 0.1298 - acc: 0.9714 - val_loss: 1.2625 - val_acc: 0.7920\n",
            "Epoch 30/200\n",
            "1/1 - 0s - loss: 0.1140 - acc: 0.9714 - val_loss: 1.3118 - val_acc: 0.7780\n",
            "Epoch 31/200\n",
            "1/1 - 0s - loss: 0.1021 - acc: 0.9929 - val_loss: 1.3627 - val_acc: 0.7780\n",
            "Epoch 32/200\n",
            "1/1 - 0s - loss: 0.0561 - acc: 0.9929 - val_loss: 1.3877 - val_acc: 0.7780\n",
            "Epoch 33/200\n",
            "1/1 - 0s - loss: 0.1468 - acc: 0.9714 - val_loss: 1.3558 - val_acc: 0.7880\n",
            "Epoch 34/200\n",
            "1/1 - 0s - loss: 0.0835 - acc: 0.9714 - val_loss: 1.3351 - val_acc: 0.7920\n",
            "Epoch 35/200\n",
            "1/1 - 0s - loss: 0.0865 - acc: 0.9714 - val_loss: 1.3280 - val_acc: 0.7900\n",
            "Epoch 36/200\n",
            "1/1 - 0s - loss: 0.0644 - acc: 0.9786 - val_loss: 1.3236 - val_acc: 0.7940\n",
            "Epoch 37/200\n",
            "1/1 - 0s - loss: 0.1830 - acc: 0.9214 - val_loss: 1.3351 - val_acc: 0.7980\n",
            "Epoch 38/200\n",
            "1/1 - 0s - loss: 0.1377 - acc: 0.9643 - val_loss: 1.3532 - val_acc: 0.7980\n",
            "Epoch 39/200\n",
            "1/1 - 0s - loss: 0.0629 - acc: 0.9857 - val_loss: 1.3902 - val_acc: 0.7980\n",
            "Epoch 40/200\n",
            "1/1 - 0s - loss: 0.0745 - acc: 0.9786 - val_loss: 1.4112 - val_acc: 0.7880\n",
            "Epoch 41/200\n",
            "1/1 - 0s - loss: 0.0536 - acc: 0.9857 - val_loss: 1.4233 - val_acc: 0.7840\n",
            "Epoch 42/200\n",
            "1/1 - 0s - loss: 0.0787 - acc: 0.9786 - val_loss: 1.4231 - val_acc: 0.7820\n",
            "Epoch 43/200\n",
            "1/1 - 0s - loss: 0.0620 - acc: 0.9714 - val_loss: 1.4300 - val_acc: 0.7860\n",
            "Epoch 44/200\n",
            "1/1 - 0s - loss: 0.0497 - acc: 0.9786 - val_loss: 1.4397 - val_acc: 0.7860\n",
            "Epoch 45/200\n",
            "1/1 - 0s - loss: 0.0359 - acc: 0.9929 - val_loss: 1.4531 - val_acc: 0.7880\n",
            "Epoch 46/200\n",
            "1/1 - 0s - loss: 0.0596 - acc: 0.9786 - val_loss: 1.4878 - val_acc: 0.7920\n",
            "Epoch 47/200\n",
            "1/1 - 0s - loss: 0.0184 - acc: 1.0000 - val_loss: 1.5276 - val_acc: 0.7900\n",
            "Epoch 48/200\n",
            "1/1 - 0s - loss: 0.0768 - acc: 0.9714 - val_loss: 1.5751 - val_acc: 0.7880\n",
            "Epoch 49/200\n",
            "1/1 - 0s - loss: 0.0579 - acc: 0.9929 - val_loss: 1.6260 - val_acc: 0.7880\n",
            "Epoch 50/200\n",
            "1/1 - 0s - loss: 0.0770 - acc: 0.9714 - val_loss: 1.6684 - val_acc: 0.7880\n",
            "Epoch 51/200\n",
            "1/1 - 0s - loss: 0.1012 - acc: 0.9786 - val_loss: 1.6767 - val_acc: 0.7900\n",
            "Epoch 52/200\n",
            "1/1 - 0s - loss: 0.0344 - acc: 0.9929 - val_loss: 1.6886 - val_acc: 0.7900\n",
            "Epoch 53/200\n",
            "1/1 - 0s - loss: 0.0472 - acc: 0.9857 - val_loss: 1.7009 - val_acc: 0.7880\n",
            "Epoch 54/200\n",
            "1/1 - 0s - loss: 0.0445 - acc: 0.9857 - val_loss: 1.7231 - val_acc: 0.7800\n",
            "Epoch 55/200\n",
            "1/1 - 0s - loss: 0.0196 - acc: 0.9929 - val_loss: 1.7460 - val_acc: 0.7740\n",
            "Epoch 56/200\n",
            "1/1 - 0s - loss: 0.0528 - acc: 0.9857 - val_loss: 1.7662 - val_acc: 0.7740\n",
            "Epoch 57/200\n",
            "1/1 - 0s - loss: 0.0519 - acc: 0.9786 - val_loss: 1.7557 - val_acc: 0.7780\n",
            "Epoch 58/200\n",
            "1/1 - 0s - loss: 0.0264 - acc: 0.9929 - val_loss: 1.7456 - val_acc: 0.7800\n",
            "Epoch 59/200\n",
            "1/1 - 0s - loss: 0.0599 - acc: 0.9786 - val_loss: 1.7355 - val_acc: 0.7800\n",
            "Epoch 60/200\n",
            "1/1 - 0s - loss: 0.0517 - acc: 0.9786 - val_loss: 1.7350 - val_acc: 0.7760\n",
            "Epoch 61/200\n",
            "1/1 - 0s - loss: 0.0338 - acc: 0.9857 - val_loss: 1.7467 - val_acc: 0.7800\n",
            "Epoch 62/200\n",
            "1/1 - 0s - loss: 0.0419 - acc: 0.9857 - val_loss: 1.7596 - val_acc: 0.7820\n",
            "Epoch 63/200\n",
            "1/1 - 0s - loss: 0.0170 - acc: 1.0000 - val_loss: 1.7759 - val_acc: 0.7760\n",
            "Epoch 64/200\n",
            "1/1 - 0s - loss: 0.0818 - acc: 0.9714 - val_loss: 1.7812 - val_acc: 0.7780\n",
            "Epoch 65/200\n",
            "1/1 - 0s - loss: 0.0172 - acc: 0.9929 - val_loss: 1.7821 - val_acc: 0.7800\n",
            "Epoch 66/200\n",
            "1/1 - 0s - loss: 0.0283 - acc: 0.9929 - val_loss: 1.7760 - val_acc: 0.7780\n",
            "Epoch 67/200\n",
            "1/1 - 0s - loss: 0.0273 - acc: 0.9929 - val_loss: 1.7723 - val_acc: 0.7800\n",
            "Epoch 68/200\n",
            "1/1 - 0s - loss: 0.0563 - acc: 0.9857 - val_loss: 1.7879 - val_acc: 0.7800\n",
            "Epoch 69/200\n",
            "1/1 - 0s - loss: 0.0172 - acc: 0.9929 - val_loss: 1.8060 - val_acc: 0.7800\n",
            "Epoch 70/200\n",
            "1/1 - 0s - loss: 0.0678 - acc: 0.9786 - val_loss: 1.8126 - val_acc: 0.7760\n",
            "Epoch 71/200\n",
            "1/1 - 0s - loss: 0.0581 - acc: 0.9857 - val_loss: 1.8179 - val_acc: 0.7780\n",
            "Epoch 72/200\n",
            "1/1 - 0s - loss: 0.0842 - acc: 0.9714 - val_loss: 1.8510 - val_acc: 0.7780\n",
            "Epoch 73/200\n",
            "1/1 - 0s - loss: 0.0747 - acc: 0.9714 - val_loss: 1.8809 - val_acc: 0.7840\n",
            "Epoch 74/200\n",
            "1/1 - 0s - loss: 0.0968 - acc: 0.9714 - val_loss: 1.9156 - val_acc: 0.7820\n",
            "Epoch 75/200\n",
            "1/1 - 0s - loss: 0.0808 - acc: 0.9714 - val_loss: 1.9525 - val_acc: 0.7780\n",
            "Epoch 76/200\n",
            "1/1 - 0s - loss: 0.1158 - acc: 0.9786 - val_loss: 1.9850 - val_acc: 0.7720\n",
            "Epoch 77/200\n",
            "1/1 - 0s - loss: 0.0370 - acc: 0.9786 - val_loss: 2.0180 - val_acc: 0.7720\n",
            "Epoch 78/200\n",
            "1/1 - 0s - loss: 0.0322 - acc: 0.9929 - val_loss: 2.0216 - val_acc: 0.7700\n"
          ]
        }
      ]
    },
    {
      "cell_type": "code",
      "source": [
        "sg.utils.plot_history(history)"
      ],
      "metadata": {
        "colab": {
          "base_uri": "https://localhost:8080/",
          "height": 585
        },
        "outputId": "7a6f2f50-f77b-4957-e52c-bd7a8905c833",
        "id": "uAVbfdp4IvXq"
      },
      "execution_count": null,
      "outputs": [
        {
          "output_type": "display_data",
          "data": {
            "text/plain": [
              "<Figure size 504x576 with 2 Axes>"
            ],
            "image/png": "[encoded data removed]"
          },
          "metadata": {
            "needs_background": "light"
          }
        }
      ]
    },
    {
      "cell_type": "code",
      "source": [
        "test_gen = generator.flow(test_subjects.index, test_targets)"
      ],
      "metadata": {
        "id": "hcQNnx2mIvXq"
      },
      "execution_count": null,
      "outputs": []
    },
    {
      "cell_type": "code",
      "source": [
        "test_metrics = model.evaluate(test_gen)\n",
        "print(\"\\nTest Set Metrics:\")\n",
        "for name, val in zip(model.metrics_names, test_metrics):\n",
        "    print(\"\\t{}: {:0.4f}\".format(name, val))"
      ],
      "metadata": {
        "colab": {
          "base_uri": "https://localhost:8080/"
        },
        "outputId": "39b19c6a-77ba-4f8e-f022-c1e3ee2cbc2e",
        "id": "bZI37E1ZIvXq"
      },
      "execution_count": null,
      "outputs": [
        {
          "output_type": "stream",
          "name": "stdout",
          "text": [
            "1/1 [==============================] - 0s 2ms/step - loss: 1.1617 - acc: 0.7979\n",
            "\n",
            "Test Set Metrics:\n",
            "\tloss: 1.1617\n",
            "\tacc: 0.7979\n"
          ]
        }
      ]
    },
    {
      "cell_type": "code",
      "source": [
        "all_nodes = node_subjects.index\n",
        "all_gen = generator.flow(all_nodes)\n",
        "all_predictions = model.predict(all_gen)"
      ],
      "metadata": {
        "id": "nBgjYh_FIvXq"
      },
      "execution_count": null,
      "outputs": []
    },
    {
      "cell_type": "code",
      "source": [
        "node_predictions = target_encoding.inverse_transform(all_predictions.squeeze())"
      ],
      "metadata": {
        "id": "4ZURMrRjIvXq"
      },
      "execution_count": null,
      "outputs": []
    },
    {
      "cell_type": "code",
      "source": [
        "\n"
      ],
      "metadata": {
        "id": "0uKq0uiEIvXq"
      },
      "execution_count": null,
      "outputs": []
    },
    {
      "cell_type": "code",
      "source": [
        "df = pd.DataFrame({\"Predicted\": node_predictions, \"True\": node_subjects})\n",
        "df.head(20)"
      ],
      "metadata": {
        "colab": {
          "base_uri": "https://localhost:8080/",
          "height": 676
        },
        "outputId": "ad662110-ba53-4944-9914-092f2e91f1de",
        "id": "GN-_RepyIvXr"
      },
      "execution_count": null,
      "outputs": [
        {
          "output_type": "execute_result",
          "data": {
            "text/plain": [
              "                      Predicted                    True\n",
              "31336           Neural_Networks         Neural_Networks\n",
              "1061127           Rule_Learning           Rule_Learning\n",
              "1106406  Reinforcement_Learning  Reinforcement_Learning\n",
              "13195    Reinforcement_Learning  Reinforcement_Learning\n",
              "37879     Probabilistic_Methods   Probabilistic_Methods\n",
              "1126012   Probabilistic_Methods   Probabilistic_Methods\n",
              "1107140  Reinforcement_Learning                  Theory\n",
              "1102850         Neural_Networks         Neural_Networks\n",
              "31349           Neural_Networks         Neural_Networks\n",
              "1106418                  Theory                  Theory\n",
              "1123188         Neural_Networks         Neural_Networks\n",
              "1128990      Genetic_Algorithms      Genetic_Algorithms\n",
              "109323    Probabilistic_Methods   Probabilistic_Methods\n",
              "217139       Genetic_Algorithms              Case_Based\n",
              "31353           Neural_Networks         Neural_Networks\n",
              "32083           Neural_Networks         Neural_Networks\n",
              "1126029  Reinforcement_Learning  Reinforcement_Learning\n",
              "1118017         Neural_Networks         Neural_Networks\n",
              "49482           Neural_Networks         Neural_Networks\n",
              "753265                   Theory         Neural_Networks"
            ],
            "text/html": [
              "\n",
              "  <div id=\"df-44f78ede-fec6-406c-8772-8b524ef5e978\">\n",
              "    <div class=\"colab-df-container\">\n",
              "      <div>\n",
              "<style scoped>\n",
              "    .dataframe tbody tr th:only-of-type {\n",
              "        vertical-align: middle;\n",
              "    }\n",
              "\n",
              "    .dataframe tbody tr th {\n",
              "        vertical-align: top;\n",
              "    }\n",
              "\n",
              "    .dataframe thead th {\n",
              "        text-align: right;\n",
              "    }\n",
              "</style>\n",
              "<table border=\"1\" class=\"dataframe\">\n",
              "  <thead>\n",
              "    <tr style=\"text-align: right;\">\n",
              "      <th></th>\n",
              "      <th>Predicted</th>\n",
              "      <th>True</th>\n",
              "    </tr>\n",
              "  </thead>\n",
              "  <tbody>\n",
              "    <tr>\n",
              "      <th>31336</th>\n",
              "      <td>Neural_Networks</td>\n",
              "      <td>Neural_Networks</td>\n",
              "    </tr>\n",
              "    <tr>\n",
              "      <th>1061127</th>\n",
              "      <td>Rule_Learning</td>\n",
              "      <td>Rule_Learning</td>\n",
              "    </tr>\n",
              "    <tr>\n",
              "      <th>1106406</th>\n",
              "      <td>Reinforcement_Learning</td>\n",
              "      <td>Reinforcement_Learning</td>\n",
              "    </tr>\n",
              "    <tr>\n",
              "      <th>13195</th>\n",
              "      <td>Reinforcement_Learning</td>\n",
              "      <td>Reinforcement_Learning</td>\n",
              "    </tr>\n",
              "    <tr>\n",
              "      <th>37879</th>\n",
              "      <td>Probabilistic_Methods</td>\n",
              "      <td>Probabilistic_Methods</td>\n",
              "    </tr>\n",
              "    <tr>\n",
              "      <th>1126012</th>\n",
              "      <td>Probabilistic_Methods</td>\n",
              "      <td>Probabilistic_Methods</td>\n",
              "    </tr>\n",
              "    <tr>\n",
              "      <th>1107140</th>\n",
              "      <td>Reinforcement_Learning</td>\n",
              "      <td>Theory</td>\n",
              "    </tr>\n",
              "    <tr>\n",
              "      <th>1102850</th>\n",
              "      <td>Neural_Networks</td>\n",
              "      <td>Neural_Networks</td>\n",
              "    </tr>\n",
              "    <tr>\n",
              "      <th>31349</th>\n",
              "      <td>Neural_Networks</td>\n",
              "      <td>Neural_Networks</td>\n",
              "    </tr>\n",
              "    <tr>\n",
              "      <th>1106418</th>\n",
              "      <td>Theory</td>\n",
              "      <td>Theory</td>\n",
              "    </tr>\n",
              "    <tr>\n",
              "      <th>1123188</th>\n",
              "      <td>Neural_Networks</td>\n",
              "      <td>Neural_Networks</td>\n",
              "    </tr>\n",
              "    <tr>\n",
              "      <th>1128990</th>\n",
              "      <td>Genetic_Algorithms</td>\n",
              "      <td>Genetic_Algorithms</td>\n",
              "    </tr>\n",
              "    <tr>\n",
              "      <th>109323</th>\n",
              "      <td>Probabilistic_Methods</td>\n",
              "      <td>Probabilistic_Methods</td>\n",
              "    </tr>\n",
              "    <tr>\n",
              "      <th>217139</th>\n",
              "      <td>Genetic_Algorithms</td>\n",
              "      <td>Case_Based</td>\n",
              "    </tr>\n",
              "    <tr>\n",
              "      <th>31353</th>\n",
              "      <td>Neural_Networks</td>\n",
              "      <td>Neural_Networks</td>\n",
              "    </tr>\n",
              "    <tr>\n",
              "      <th>32083</th>\n",
              "      <td>Neural_Networks</td>\n",
              "      <td>Neural_Networks</td>\n",
              "    </tr>\n",
              "    <tr>\n",
              "      <th>1126029</th>\n",
              "      <td>Reinforcement_Learning</td>\n",
              "      <td>Reinforcement_Learning</td>\n",
              "    </tr>\n",
              "    <tr>\n",
              "      <th>1118017</th>\n",
              "      <td>Neural_Networks</td>\n",
              "      <td>Neural_Networks</td>\n",
              "    </tr>\n",
              "    <tr>\n",
              "      <th>49482</th>\n",
              "      <td>Neural_Networks</td>\n",
              "      <td>Neural_Networks</td>\n",
              "    </tr>\n",
              "    <tr>\n",
              "      <th>753265</th>\n",
              "      <td>Theory</td>\n",
              "      <td>Neural_Networks</td>\n",
              "    </tr>\n",
              "  </tbody>\n",
              "</table>\n",
              "</div>\n",
              "      <button class=\"colab-df-convert\" onclick=\"convertToInteractive('df-44f78ede-fec6-406c-8772-8b524ef5e978')\"\n",
              "              title=\"Convert this dataframe to an interactive table.\"\n",
              "              style=\"display:none;\">\n",
              "        \n",
              "  <svg xmlns=\"http://www.w3.org/2000/svg\" height=\"24px\"viewBox=\"0 0 24 24\"\n",
              "       width=\"24px\">\n",
              "    <path d=\"M0 0h24v24H0V0z\" fill=\"none\"/>\n",
              "    <path d=\"M18.56 5.44l.94 2.06.94-2.06 2.06-.94-2.06-.94-.94-2.06-.94 2.06-2.06.94zm-11 1L8.5 8.5l.94-2.06 2.06-.94-2.06-.94L8.5 2.5l-.94 2.06-2.06.94zm10 10l.94 2.06.94-2.06 2.06-.94-2.06-.94-.94-2.06-.94 2.06-2.06.94z\"/><path d=\"M17.41 7.96l-1.37-1.37c-.4-.4-.92-.59-1.43-.59-.52 0-1.04.2-1.43.59L10.3 9.45l-7.72 7.72c-.78.78-.78 2.05 0 2.83L4 21.41c.39.39.9.59 1.41.59.51 0 1.02-.2 1.41-.59l7.78-7.78 2.81-2.81c.8-.78.8-2.07 0-2.86zM5.41 20L4 18.59l7.72-7.72 1.47 1.35L5.41 20z\"/>\n",
              "  </svg>\n",
              "      </button>\n",
              "      \n",
              "  <style>\n",
              "    .colab-df-container {\n",
              "      display:flex;\n",
              "      flex-wrap:wrap;\n",
              "      gap: 12px;\n",
              "    }\n",
              "\n",
              "    .colab-df-convert {\n",
              "      background-color: #E8F0FE;\n",
              "      border: none;\n",
              "      border-radius: 50%;\n",
              "      cursor: pointer;\n",
              "      display: none;\n",
              "      fill: #1967D2;\n",
              "      height: 32px;\n",
              "      padding: 0 0 0 0;\n",
              "      width: 32px;\n",
              "    }\n",
              "\n",
              "    .colab-df-convert:hover {\n",
              "      background-color: #E2EBFA;\n",
              "      box-shadow: 0px 1px 2px rgba(60, 64, 67, 0.3), 0px 1px 3px 1px rgba(60, 64, 67, 0.15);\n",
              "      fill: #174EA6;\n",
              "    }\n",
              "\n",
              "    [theme=dark] .colab-df-convert {\n",
              "      background-color: #3B4455;\n",
              "      fill: #D2E3FC;\n",
              "    }\n",
              "\n",
              "    [theme=dark] .colab-df-convert:hover {\n",
              "      background-color: #434B5C;\n",
              "      box-shadow: 0px 1px 3px 1px rgba(0, 0, 0, 0.15);\n",
              "      filter: drop-shadow(0px 1px 2px rgba(0, 0, 0, 0.3));\n",
              "      fill: #FFFFFF;\n",
              "    }\n",
              "  </style>\n",
              "\n",
              "      <script>\n",
              "        const buttonEl =\n",
              "          document.querySelector('#df-44f78ede-fec6-406c-8772-8b524ef5e978 button.colab-df-convert');\n",
              "        buttonEl.style.display =\n",
              "          google.colab.kernel.accessAllowed ? 'block' : 'none';\n",
              "\n",
              "        async function convertToInteractive(key) {\n",
              "          const element = document.querySelector('#df-44f78ede-fec6-406c-8772-8b524ef5e978');\n",
              "          const dataTable =\n",
              "            await google.colab.kernel.invokeFunction('convertToInteractive',\n",
              "                                                     [key], {});\n",
              "          if (!dataTable) return;\n",
              "\n",
              "          const docLinkHtml = 'Like what you see? Visit the ' +\n",
              "            '<a target=\"_blank\" href=https://colab.research.google.com/notebooks/data_table.ipynb>data table notebook</a>'\n",
              "            + ' to learn more about interactive tables.';\n",
              "          element.innerHTML = '';\n",
              "          dataTable['output_type'] = 'display_data';\n",
              "          await google.colab.output.renderOutput(dataTable, element);\n",
              "          const docLink = document.createElement('div');\n",
              "          docLink.innerHTML = docLinkHtml;\n",
              "          element.appendChild(docLink);\n",
              "        }\n",
              "      </script>\n",
              "    </div>\n",
              "  </div>\n",
              "  "
            ]
          },
          "metadata": {},
          "execution_count": 189
        }
      ]
    },
    {
      "cell_type": "code",
      "source": [
        "embedding_model = Model(inputs=x_inp, outputs=x_out)\n",
        "emb = embedding_model.predict(all_gen)\n",
        "emb.shape\n",
        "\n",
        "from sklearn.decomposition import PCA\n",
        "from sklearn.manifold import TSNE\n",
        "\n",
        "transform = TSNE  # or PCA\n",
        "\n",
        "X = emb.squeeze(0)\n",
        "X.shape\n",
        "\n",
        "trans = transform(n_components=2)\n",
        "X_reduced = trans.fit_transform(X)\n",
        "X_reduced.shape\n",
        "\n",
        "fig, ax = plt.subplots(figsize=(7, 7))\n",
        "ax.scatter(\n",
        "    X_reduced[:, 0],\n",
        "    X_reduced[:, 1],\n",
        "    c=node_subjects.astype(\"category\").cat.codes,\n",
        "    cmap=\"jet\",\n",
        "    alpha=0.7,\n",
        ")\n",
        "ax.set(\n",
        "    aspect=\"equal\",\n",
        "    xlabel=\"$X_1$\",\n",
        "    ylabel=\"$X_2$\",\n",
        "    title=f\"{transform.__name__} visualization of GCN embeddings for cora dataset\",\n",
        ")"
      ],
      "metadata": {
        "colab": {
          "base_uri": "https://localhost:8080/",
          "height": 625
        },
        "id": "uJ81FsOkPLox",
        "outputId": "397d0992-6b09-451c-e91f-8c17fc07fec5"
      },
      "execution_count": null,
      "outputs": [
        {
          "output_type": "stream",
          "name": "stderr",
          "text": [
            "/usr/local/lib/python3.7/dist-packages/sklearn/manifold/_t_sne.py:783: FutureWarning: The default initialization in TSNE will change from 'random' to 'pca' in 1.2.\n",
            "  FutureWarning,\n",
            "/usr/local/lib/python3.7/dist-packages/sklearn/manifold/_t_sne.py:793: FutureWarning: The default learning rate in TSNE will change from 200.0 to 'auto' in 1.2.\n",
            "  FutureWarning,\n"
          ]
        },
        {
          "output_type": "execute_result",
          "data": {
            "text/plain": [
              "[Text(0, 0.5, '$X_2$'),\n",
              " Text(0.5, 0, '$X_1$'),\n",
              " Text(0.5, 1.0, 'TSNE visualization of GCN embeddings for cora dataset'),\n",
              " None]"
            ]
          },
          "metadata": {},
          "execution_count": 190
        },
        {
          "output_type": "display_data",
          "data": {
            "text/plain": [
              "<Figure size 504x504 with 1 Axes>"
            ],
            "image/png": "[encoded data removed]"
          },
          "metadata": {
            "needs_background": "light"
          }
        }
      ]
    },
    {
      "cell_type": "code",
      "source": [
        ""
      ],
      "metadata": {
        "id": "f4NIP2pEQuMa"
      },
      "execution_count": null,
      "outputs": []
    }
  ]
}